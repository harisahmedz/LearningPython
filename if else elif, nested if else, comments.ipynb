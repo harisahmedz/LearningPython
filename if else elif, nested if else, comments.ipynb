{
 "cells": [
  {
   "cell_type": "code",
   "execution_count": 15,
   "metadata": {},
   "outputs": [
    {
     "name": "stdout",
     "output_type": "stream",
     "text": [
      "Correct\n",
      "ok\n",
      "Name: Haris Ahmed\n"
     ]
    }
   ],
   "source": [
    "a = 2 + 2\n",
    "if a == 4:\n",
    "    print(\"Correct\")    \n",
    "    \n",
    "display = \"OK\"\n",
    "if display == \"OK\":\n",
    "    print(\"ok\")\n",
    "    \n",
    "full_name = \"Haris Ahmed\"\n",
    "\n",
    "if full_name == \"Haris\" + \" \" + \"Ahmed\":\n",
    "    print(\"Name: \" + full_name)\n"
   ]
  },
  {
   "cell_type": "code",
   "execution_count": 16,
   "metadata": {},
   "outputs": [
    {
     "name": "stdout",
     "output_type": "stream",
     "text": [
      "Name: Haris Ahmed\n"
     ]
    }
   ],
   "source": [
    "first_name = \"Haris \"\n",
    "last_name = \"Ahmed\"\n",
    "full_name = first_name + last_name\n",
    "if full_name == first_name + last_name:\n",
    "    print(\"Name: \" + full_name)"
   ]
  },
  {
   "cell_type": "code",
   "execution_count": 17,
   "metadata": {},
   "outputs": [
    {
     "name": "stdout",
     "output_type": "stream",
     "text": [
      "Sorry\n",
      "True\n",
      "True\n",
      "True\n",
      "True\n",
      "True\n",
      "True\n"
     ]
    }
   ],
   "source": [
    "if \"Rose\" != \"rose\":\n",
    "    print(\"Sorry\")\n",
    "    \n",
    "\n",
    "if 1 > 0 :\n",
    "    print(\"True\")\n",
    "if 0 < 1 :\n",
    "    print(\"True\")  \n",
    "if 1 >= 1:\n",
    "    print(\"True\") \n",
    "if 1 <= 1:\n",
    "    print(\"True\") \n",
    "if 1 >= 0:\n",
    "    print(\"True\") \n",
    "if 0 <= 1:\n",
    "    print(\"True\") "
   ]
  },
  {
   "cell_type": "code",
   "execution_count": 26,
   "metadata": {},
   "outputs": [
    {
     "name": "stdout",
     "output_type": "stream",
     "text": [
      "10\n",
      "22\n"
     ]
    }
   ],
   "source": [
    "price = 0\n",
    "donut_condition = \"Fresh\"\n",
    "if donut_condition == \"Fresh\":\n",
    "    price +=10\n",
    "elif donut_condition == \"Normal\":\n",
    "    price += 5\n",
    "else:\n",
    "    price +=1\n",
    "\n",
    "print(price)\n",
    "\n",
    "\n",
    "\n",
    "donut_condition = \"fresh\"\n",
    "donut_filling = \"chocolate\"\n",
    "donut_price = \"reasonable\"\n",
    "buy_score = 0\n",
    "if donut_condition == \"fresh\":\n",
    "    buy_score += 10\n",
    "if donut_filling == \"chocolate\":\n",
    "        buy_score += 5\n",
    "if donut_price == \"reasonable\":\n",
    "        buy_score += 7\n",
    "        \n",
    "print(buy_score)"
   ]
  },
  {
   "cell_type": "code",
   "execution_count": 2,
   "metadata": {},
   "outputs": [
    {
     "name": "stdout",
     "output_type": "stream",
     "text": [
      "Enter Age: 19\n",
      "Enter Education: Intermediate\n",
      "Internship Allowed\n"
     ]
    }
   ],
   "source": [
    "age = int(input(\"Enter Age: \"))\n",
    "Education = input(\"Enter Education: \")\n",
    "\n",
    "if (age >= 18 and age <=23) and Education == \"Intermediate\" :\n",
    "    print(\"Internship Allowed\")\n",
    "else:\n",
    "    print(\"Not allowed\")"
   ]
  },
  {
   "cell_type": "code",
   "execution_count": 1,
   "metadata": {},
   "outputs": [
    {
     "name": "stdout",
     "output_type": "stream",
     "text": [
      "Enter Value One: 25\n",
      "Enter Value Two: 62\n",
      "Value Two is greater than Value One.\n"
     ]
    }
   ],
   "source": [
    "#Take two int values from user and print greatest among them.\n",
    "value_1 = int(input(\"Enter Value One: \"))\n",
    "value_2 = int(input(\"Enter Value Two: \"))\n",
    "\n",
    "if value_1 > value_2 :\n",
    "    print(\"Value One is Greater Than Value Two.\")\n",
    "else:\n",
    "    print(\"Value Two is greater than Value One.\")"
   ]
  },
  {
   "cell_type": "code",
   "execution_count": 4,
   "metadata": {},
   "outputs": [
    {
     "name": "stdout",
     "output_type": "stream",
     "text": [
      "Enter Quantity: 11\n",
      "Total Price 990.0\n"
     ]
    }
   ],
   "source": [
    "#A shop will give discount of 10% if the cost of purchased quantity is more than 1000.\n",
    "#Ask user for quantity\n",
    "#Suppose, one unit will cost 100.\n",
    "#Judge and print total cost for user.\n",
    "\n",
    "cost = 100\n",
    "quantity = int(input(\"Enter Quantity: \"))\n",
    "price = quantity *  cost\n",
    "\n",
    "if price > 1000 :\n",
    "    discount = price / 10\n",
    "    price = price - discount\n",
    "    print(\"Total Price \" + str(price))\n",
    "    \n",
    "else:\n",
    "    print(\"Total Price \" + price)"
   ]
  },
  {
   "cell_type": "code",
   "execution_count": 16,
   "metadata": {},
   "outputs": [
    {
     "name": "stdout",
     "output_type": "stream",
     "text": [
      "Enter Marks: 83\n",
      "Grade is A.\n"
     ]
    }
   ],
   "source": [
    "#A school has following rules for grading system:\n",
    "#a. Below 25 - F\n",
    "#b. 25 to 45 - E\n",
    "#c. 45 to 50 - D\n",
    "#d. 50 to 60 - C\n",
    "#e. 60 to 80 - B\n",
    "#f. Above 80 - A\n",
    "#Ask user to enter marks and print the corresponding grade.\n",
    "\n",
    "marks = int(input(\"Enter Marks: \"))\n",
    "\n",
    "if marks > 80:\n",
    "    print(\"Grade is A.\")\n",
    "elif marks >60 and marks <= 80:\n",
    "    print(\"Grade is B.\")\n",
    "elif marks >50 and marks <= 60:\n",
    "    print(\"Grade is C.\")\n",
    "elif marks >45 and marks <= 50:\n",
    "    print(\"Grade is D.\")\n",
    "elif marks >=25 and marks <= 45:\n",
    "    print(\"Grade is E.\")    \n",
    "else :\n",
    "    print(\"Grade is F.\")"
   ]
  },
  {
   "cell_type": "code",
   "execution_count": 20,
   "metadata": {},
   "outputs": [
    {
     "name": "stdout",
     "output_type": "stream",
     "text": [
      "Enter Username: harisahmedz\n",
      "Enter Password: abc1234\n",
      "Welcome!\n"
     ]
    }
   ],
   "source": [
    "# nested if else:\n",
    "username = input(\"Enter Username: \")\n",
    "Password = input(\"Enter Password: \")\n",
    "\n",
    "if username == \"harisahmedz\" :\n",
    "    if Password == \"abc1234\":\n",
    "         print(\"Welcome!\")\n",
    "    else:\n",
    "        print(\"Password is Worng\")\n",
    "else:\n",
    "    print(\"Username is Worng\")"
   ]
  },
  {
   "cell_type": "code",
   "execution_count": null,
   "metadata": {},
   "outputs": [],
   "source": []
  },
  {
   "cell_type": "code",
   "execution_count": null,
   "metadata": {},
   "outputs": [],
   "source": []
  },
  {
   "cell_type": "code",
   "execution_count": null,
   "metadata": {},
   "outputs": [],
   "source": []
  }
 ],
 "metadata": {
  "kernelspec": {
   "display_name": "Python 3",
   "language": "python",
   "name": "python3"
  },
  "language_info": {
   "codemirror_mode": {
    "name": "ipython",
    "version": 3
   },
   "file_extension": ".py",
   "mimetype": "text/x-python",
   "name": "python",
   "nbconvert_exporter": "python",
   "pygments_lexer": "ipython3",
   "version": "3.8.3"
  }
 },
 "nbformat": 4,
 "nbformat_minor": 2
}
