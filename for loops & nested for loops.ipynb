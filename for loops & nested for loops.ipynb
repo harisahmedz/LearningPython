{
 "cells": [
  {
   "cell_type": "code",
   "execution_count": 1,
   "metadata": {},
   "outputs": [
    {
     "name": "stdout",
     "output_type": "stream",
     "text": [
      "14\n"
     ]
    }
   ],
   "source": [
    "outer_loop_total = 0\n",
    "inner_loop_total = 0\n",
    "countries = [\"Albania\", \"Morocco\", \"Brazil\", \"Denmark\"]\n",
    "capitals = [\"Tel Aviv\", \"Abuja\", \"Brasília\", \"Islamabad\"]\n",
    "for country_to_check in countries:\n",
    "  outer_loop_total += 1\n",
    "  for city_to_check in capitals:\n",
    "    inner_loop_total += 1\n",
    "    if country_to_check == \"Brazil\" and city_to_check == \"Brasília\":\n",
    "      print(outer_loop_total + inner_loop_total)"
   ]
  },
  {
   "cell_type": "code",
   "execution_count": 6,
   "metadata": {},
   "outputs": [
    {
     "name": "stdout",
     "output_type": "stream",
     "text": [
      "[1505, 1540, 1575, 1610, 1645, 1680, 1715, 1750, 1785, 1820, 1855, 1890, 1925, 1960, 1995, 2030, 2065, 2100, 2135, 2170, 2205, 2240, 2275, 2310, 2345, 2380, 2415, 2450, 2485, 2520, 2555, 2590, 2625, 2660, 2695]\n"
     ]
    }
   ],
   "source": [
    "# Write a Python program to find those numbers which are divisible by 7 and multiple of 5, between 1500 and 2700(both included).\n",
    "\n",
    "nums =[]\n",
    "for num in range(1500,2700):\n",
    "    if (num%5 == 0) and (num%7 == 0):\n",
    "        nums.append(num)\n",
    "    \n",
    "print(nums)"
   ]
  },
  {
   "cell_type": "code",
   "execution_count": 19,
   "metadata": {},
   "outputs": [
    {
     "name": "stdout",
     "output_type": "stream",
     "text": [
      "\n",
      "* \n",
      "* * \n",
      "* * * \n",
      "* * * * \n",
      "* * * * * \n",
      "* * * * \n",
      "* * * \n",
      "* * \n",
      "* \n"
     ]
    }
   ],
   "source": [
    "#Write a Python program to construct the following pattern, using a nested for loop.\n",
    "'''\n",
    "* \n",
    "* * \n",
    "* * * \n",
    "* * * * \n",
    "* * * * * \n",
    "* * * * \n",
    "* * * \n",
    "* * \n",
    "*\n",
    "'''\n",
    "\n",
    "n=5;\n",
    "for i in range(n):\n",
    "    for j in range(i):\n",
    "        print ('* ', end=\"\")\n",
    "    print('')\n",
    "\n",
    "for i in range(n,0,-1):\n",
    "    for j in range(i):\n",
    "        print('* ', end=\"\")\n",
    "    print('')    \n"
   ]
  },
  {
   "cell_type": "code",
   "execution_count": 23,
   "metadata": {},
   "outputs": [
    {
     "name": "stdout",
     "output_type": "stream",
     "text": [
      "Enter Any Word: You\n",
      "uoY"
     ]
    }
   ],
   "source": [
    "#Write a Python program that accepts a word from the user and reverse it.\n",
    "\n",
    "word = input(\"Enter Any Word: \")\n",
    "for char in range(len(word)-1,-1,-1):\n",
    "     print(word[char], end=\"\")"
   ]
  },
  {
   "cell_type": "code",
   "execution_count": 25,
   "metadata": {},
   "outputs": [
    {
     "name": "stdout",
     "output_type": "stream",
     "text": [
      "Enter Starting Point: 1\n",
      "Enter Ending Point: 9\n",
      "Even Numbers : 4\n",
      "Even Odd : 5\n"
     ]
    }
   ],
   "source": [
    "#Write a Python program to count the number of even and odd numbers from a series of numbers. Go to the editor\n",
    "#Sample numbers : numbers = (1, 2, 3, 4, 5, 6, 7, 8, 9) \n",
    "\n",
    "start= int(input(\"Enter Starting Point: \"))\n",
    "end = int(input(\"Enter Ending Point: \"))\n",
    "odd = 0\n",
    "even = 0\n",
    "for i in range(start, end+1):\n",
    "    if (i%2==0):\n",
    "        even += 1\n",
    "    else:\n",
    "        odd +=1\n",
    "\n",
    "print(\"Even Numbers : \"+ str(even))\n",
    "print(\"Even Odd : \"+ str(odd))  "
   ]
  },
  {
   "cell_type": "code",
   "execution_count": 38,
   "metadata": {},
   "outputs": [
    {
     "name": "stdout",
     "output_type": "stream",
     "text": [
      "0\n",
      "1\n",
      "2\n",
      "4\n",
      "5\n"
     ]
    }
   ],
   "source": [
    "'''\n",
    "Write a Python program that prints all the numbers from 0 to 6 except 3 and 6.\n",
    "\n",
    "'''\n",
    "for i in range(7):\n",
    "    if i == 3 or i == 6:\n",
    "        continue             \n",
    "    print(i)   \n"
   ]
  },
  {
   "cell_type": "code",
   "execution_count": 55,
   "metadata": {},
   "outputs": [
    {
     "name": "stdout",
     "output_type": "stream",
     "text": [
      "1\n",
      "2\n",
      "fizz\n",
      "3\n",
      "4\n",
      "buzz\n",
      "fizz\n",
      "6\n",
      "7\n",
      "8\n",
      "fizz\n",
      "9\n",
      "buzz\n",
      "11\n",
      "fizz\n",
      "12\n",
      "13\n",
      "14\n",
      "fizz\n",
      "buzz\n",
      "16\n",
      "17\n",
      "fizz\n",
      "18\n",
      "19\n",
      "buzz\n",
      "fizz\n",
      "21\n",
      "22\n",
      "23\n",
      "fizz\n",
      "24\n",
      "buzz\n",
      "26\n",
      "fizz\n",
      "27\n",
      "28\n",
      "29\n",
      "fizz\n",
      "buzz\n",
      "31\n",
      "32\n",
      "fizz\n",
      "33\n",
      "34\n",
      "buzz\n",
      "fizz\n",
      "36\n",
      "37\n",
      "38\n",
      "fizz\n",
      "39\n",
      "buzz\n",
      "41\n",
      "fizz\n",
      "42\n",
      "43\n",
      "44\n",
      "fizz\n",
      "buzz\n",
      "46\n",
      "47\n",
      "fizz\n",
      "48\n",
      "49\n",
      "buzz\n"
     ]
    }
   ],
   "source": [
    "'''\n",
    " Write a Python program which iterates the integers from 1 to 50. For multiples of three print \"Fizz\" instead of the \n",
    " number and for the multiples of five print \"Buzz\". For numbers which are multiples of both three and five print \"FizzBuzz\".\n",
    "'''\n",
    "\n",
    "for i in range(1, 51):\n",
    "    if (i % 3==0):\n",
    "        j = str(i)\n",
    "        j= \"fizz\"\n",
    "        print(j)\n",
    "    if (i % 5==0):\n",
    "        j = str(i)\n",
    "        j= \"buzz\"\n",
    "        print(j)\n",
    "    else:\n",
    "        print(i)\n"
   ]
  },
  {
   "cell_type": "code",
   "execution_count": 65,
   "metadata": {},
   "outputs": [
    {
     "name": "stdout",
     "output_type": "stream",
     "text": [
      "Enter word: python 3.8\n",
      "6\n",
      "2\n"
     ]
    }
   ],
   "source": [
    "\n",
    "#Write a Python program that accepts a string and calculate the number of digits and letters.\n",
    "letters = 0\n",
    "digits = 0\n",
    "word = input(\"Enter word: \")\n",
    "for i in word:\n",
    "    if i.isdigit():\n",
    "        digits += 1\n",
    "    if i.isalpha():\n",
    "        letters += 1    \n",
    "    else: \n",
    "        pass\n",
    "    \n",
    "print(letters)\n",
    "print(digits)"
   ]
  },
  {
   "cell_type": "code",
   "execution_count": 2,
   "metadata": {},
   "outputs": [
    {
     "name": "stdout",
     "output_type": "stream",
     "text": [
      "Enter how many integers you want to enter: 3\n",
      "Enter no.1: 12\n",
      "Enter no.2: 10\n",
      "Enter no.3: 15\n",
      "Sum of numbers:37 \n",
      "Average Number:12.333333333333334 \n"
     ]
    }
   ],
   "source": [
    "#Write a Python program to calculate the sum and average of n integer numbers (input from the user). Input 0 to finish.\n",
    "sumofnumbers = 0\n",
    "n = int(input(\"Enter how many integers you want to enter: \")) \n",
    "for i in range(n):\n",
    "    num =  int(input(\"Enter no.{}: \".format(i+1)))\n",
    "\n",
    "    if (num == 0):\n",
    "        break\n",
    "    else: \n",
    "        sumofnumbers += num\n",
    "        \n",
    "print(\"Sum of numbers:{} \".format(sumofnumbers)) \n",
    "avg = sumofnumbers /  n\n",
    "print(\"Average Number:{} \".format(avg)) "
   ]
  },
  {
   "cell_type": "code",
   "execution_count": 5,
   "metadata": {},
   "outputs": [
    {
     "name": "stdout",
     "output_type": "stream",
     "text": [
      "Enter Number: 5\n",
      "5 x 1 = 5\n",
      "5 x 2 = 10\n",
      "5 x 3 = 15\n",
      "5 x 4 = 20\n",
      "5 x 5 = 25\n",
      "5 x 6 = 30\n",
      "5 x 7 = 35\n",
      "5 x 8 = 40\n",
      "5 x 9 = 45\n",
      "5 x 10 = 50\n"
     ]
    }
   ],
   "source": [
    "# Write a Python program to create the multiplication table (from 1 to 10) of a number\n",
    "num = int(input(\"Enter Number: \"))\n",
    "\n",
    "for i in range(1,11):\n",
    "    print(f\"{num} x {i} = {num*i}\")\n",
    "    \n",
    "   "
   ]
  },
  {
   "cell_type": "code",
   "execution_count": 79,
   "metadata": {},
   "outputs": [
    {
     "name": "stdout",
     "output_type": "stream",
     "text": [
      "1\n",
      "12\n",
      "123\n",
      "1234\n",
      "12345\n",
      "123456\n",
      "1234567\n",
      "12345678\n",
      "123456789\n"
     ]
    }
   ],
   "source": [
    "'''\n",
    "Write a Python program to construct the following pattern, using a nested loop number. Go to the editor\n",
    "Expected Output:\n",
    "\n",
    "1\n",
    "22\n",
    "333\n",
    "4444\n",
    "55555\n",
    "666666\n",
    "7777777\n",
    "88888888\n",
    "999999999\n",
    "'''\n",
    "\n",
    "for i in range(1,10):  \n",
    "    for j in range(1, i+1):\n",
    "            print(j,end=\"\")\n",
    "    print(\"\")"
   ]
  },
  {
   "cell_type": "code",
   "execution_count": 81,
   "metadata": {},
   "outputs": [
    {
     "name": "stdout",
     "output_type": "stream",
     "text": [
      "Enter Number: 10\n",
      "Sum:55 \n"
     ]
    }
   ],
   "source": [
    "#Accept number from user and calculate the sum of all number between 1 and given number\n",
    "\n",
    "number = int(input(\"Enter Number: \"))\n",
    "sumOf = 0\n",
    "for i in range(1,number+1):\n",
    "    sumOf +=i \n",
    "    \n",
    "print(\"Sum:{} \".format(sumOf))"
   ]
  },
  {
   "cell_type": "code",
   "execution_count": 90,
   "metadata": {},
   "outputs": [
    {
     "name": "stdout",
     "output_type": "stream",
     "text": [
      "50\n",
      "40\n",
      "30\n",
      "20\n",
      "10\n"
     ]
    }
   ],
   "source": [
    "#Exercise Question 8: Reverse the following list using for loop\n",
    "list1 = [10, 20, 30, 40, 50]\n",
    "start = len(list1)-1\n",
    "\n",
    "for i in range(start,-1,-1):\n",
    "    print(list1[i])"
   ]
  },
  {
   "cell_type": "code",
   "execution_count": null,
   "metadata": {},
   "outputs": [],
   "source": []
  }
 ],
 "metadata": {
  "kernelspec": {
   "display_name": "Python 3",
   "language": "python",
   "name": "python3"
  },
  "language_info": {
   "codemirror_mode": {
    "name": "ipython",
    "version": 3
   },
   "file_extension": ".py",
   "mimetype": "text/x-python",
   "name": "python",
   "nbconvert_exporter": "python",
   "pygments_lexer": "ipython3",
   "version": "3.7.4"
  }
 },
 "nbformat": 4,
 "nbformat_minor": 2
}
