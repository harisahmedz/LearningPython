{
 "cells": [
  {
   "cell_type": "code",
   "execution_count": 1,
   "metadata": {},
   "outputs": [],
   "source": [
    "#How to save a Python list or dictionary in a file: JSON\n",
    "#How to retrieve a Python list or dictionary from a JSON file"
   ]
  },
  {
   "cell_type": "code",
   "execution_count": 2,
   "metadata": {},
   "outputs": [],
   "source": [
    "import json"
   ]
  },
  {
   "cell_type": "markdown",
   "metadata": {},
   "source": [
    "# How to save a Python list or dictionary in a file: JSON"
   ]
  },
  {
   "cell_type": "code",
   "execution_count": 4,
   "metadata": {},
   "outputs": [],
   "source": [
    "southAsia = [\"Afghanistan\", \"Bangladesh\", \"Bhutan\", \"India\", \"Maldives\", \"Nepal\", \"Pakistan\", \"Sri Lanka\"]#list\n",
    "with open(\"southAsia.json\", \"w\") as f:\n",
    "    json.dump(southAsia, f)"
   ]
  },
  {
   "cell_type": "code",
   "execution_count": 7,
   "metadata": {},
   "outputs": [],
   "source": [
    "customer101 = {\n",
    "    \"Name\" : \"Haris Ahmed\",\n",
    "    \"Age\" : 19,\n",
    "    \"Products\" : [\"SSD\", \"HDD\"]\n",
    "} #dictionary\n",
    "with open(\"customer101.json\", \"w\") as f:\n",
    "    json.dump(customer101, f)"
   ]
  },
  {
   "cell_type": "markdown",
   "metadata": {},
   "source": [
    "# How to retrieve a Python list or dictionary from a JSON file"
   ]
  },
  {
   "cell_type": "code",
   "execution_count": 9,
   "metadata": {},
   "outputs": [
    {
     "name": "stdout",
     "output_type": "stream",
     "text": [
      "Type:  <class 'list'>\n",
      "Pakistan\n"
     ]
    }
   ],
   "source": [
    "with open(\"southAsia.json\") as f:\n",
    "    southAsia_lst = json.load(f)\n",
    "    print(\"Type: \", type(southAsia_lst))\n",
    "    print(southAsia_lst[6])"
   ]
  },
  {
   "cell_type": "code",
   "execution_count": 11,
   "metadata": {},
   "outputs": [
    {
     "name": "stdout",
     "output_type": "stream",
     "text": [
      "Type:  <class 'dict'>\n",
      "customer101 Age: 19\n"
     ]
    }
   ],
   "source": [
    "with open(\"customer101.json\") as f:\n",
    "    customer101_Dict = json.load(f)\n",
    "print(\"Type: \", type(customer101_Dict))\n",
    "print(\"customer101 Age:\", customer101_Dict[\"Age\"])"
   ]
  }
 ],
 "metadata": {
  "kernelspec": {
   "display_name": "Python 3",
   "language": "python",
   "name": "python3"
  },
  "language_info": {
   "codemirror_mode": {
    "name": "ipython",
    "version": 3
   },
   "file_extension": ".py",
   "mimetype": "text/x-python",
   "name": "python",
   "nbconvert_exporter": "python",
   "pygments_lexer": "ipython3",
   "version": "3.8.3"
  }
 },
 "nbformat": 4,
 "nbformat_minor": 4
}
