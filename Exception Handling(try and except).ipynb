{
 "cells": [
  {
   "cell_type": "code",
   "execution_count": 1,
   "metadata": {},
   "outputs": [],
   "source": [
    "#Planning for things to go wrong\n",
    "#A more practical example of exception handling"
   ]
  },
  {
   "cell_type": "markdown",
   "metadata": {},
   "source": [
    "# Planning for things to go wrong"
   ]
  },
  {
   "cell_type": "code",
   "execution_count": 2,
   "metadata": {},
   "outputs": [
    {
     "name": "stdout",
     "output_type": "stream",
     "text": [
      "Enter JSON File name to Read:southAsia.json\n",
      "data in the files:  ['Afghanistan', 'Bangladesh', 'Bhutan', 'India', 'Maldives', 'Nepal', 'Pakistan', 'Sri Lanka']\n"
     ]
    }
   ],
   "source": [
    "import json\n",
    "try:\n",
    "    fileName = input(\"Enter JSON File name to Read:\")\n",
    "    with open(fileName) as f:\n",
    "        content = json.load(f)\n",
    "    print(\"data in the files: \",content)\n",
    "except FileNotFoundError:\n",
    "    print(f\"Error! {fileName} doesn't exist\")"
   ]
  },
  {
   "cell_type": "markdown",
   "metadata": {},
   "source": [
    "# A more practical example of exception handling"
   ]
  },
  {
   "cell_type": "code",
   "execution_count": 3,
   "metadata": {},
   "outputs": [
    {
     "name": "stdout",
     "output_type": "stream",
     "text": [
      "Enter File name to Read:greet.txt\n",
      "data in the files:  Hi, how are you\n",
      "Hi, whats going on\n"
     ]
    }
   ],
   "source": [
    "while True:\n",
    "    try:\n",
    "        fileName = input(\"Enter File name to Read:\")\n",
    "        with open(fileName) as f:\n",
    "            content = f.read()\n",
    "        print(\"data in the files: \",content)\n",
    "        break\n",
    "    except FileNotFoundError:\n",
    "        print(f\"Error! {fileName} doesn't exist\")   "
   ]
  },
  {
   "cell_type": "code",
   "execution_count": null,
   "metadata": {},
   "outputs": [],
   "source": []
  }
 ],
 "metadata": {
  "kernelspec": {
   "display_name": "Python 3",
   "language": "python",
   "name": "python3"
  },
  "language_info": {
   "codemirror_mode": {
    "name": "ipython",
    "version": 3
   },
   "file_extension": ".py",
   "mimetype": "text/x-python",
   "name": "python",
   "nbconvert_exporter": "python",
   "pygments_lexer": "ipython3",
   "version": "3.8.3"
  }
 },
 "nbformat": 4,
 "nbformat_minor": 4
}
