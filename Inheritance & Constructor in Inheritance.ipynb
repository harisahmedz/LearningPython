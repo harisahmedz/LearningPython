{
 "cells": [
  {
   "cell_type": "markdown",
   "metadata": {},
   "source": [
    "# Single Level Inheritance"
   ]
  },
  {
   "cell_type": "code",
   "execution_count": 1,
   "metadata": {},
   "outputs": [
    {
     "name": "stdout",
     "output_type": "stream",
     "text": [
      "Feature 1 working\n"
     ]
    }
   ],
   "source": [
    "class A:\n",
    "    def Feature1(self):\n",
    "        print(\"Feature 1 working\")\n",
    "        \n",
    "    def Feature2(self):\n",
    "        print(\"Feature 2 working\")\n",
    "        \n",
    "class B(A):\n",
    "    def Feature3(self):\n",
    "        print(\"Feature 3 working\")\n",
    "        \n",
    "    def Feature4(self):\n",
    "        print(\"Feature 4 working\")\n",
    "\n",
    "b = B()\n",
    "b.Feature1()"
   ]
  },
  {
   "cell_type": "markdown",
   "metadata": {},
   "source": [
    "# Mutlilevel Inheritance"
   ]
  },
  {
   "cell_type": "code",
   "execution_count": 2,
   "metadata": {},
   "outputs": [
    {
     "name": "stdout",
     "output_type": "stream",
     "text": [
      "---->Object C\n",
      "Feature 1 working\n",
      "Feature 3 working\n",
      "---->Object B\n",
      "Feature 1 working\n"
     ]
    }
   ],
   "source": [
    "# A---> B --->C\n",
    "class A:\n",
    "    def Feature1(self):\n",
    "        print(\"Feature 1 working\")\n",
    "        \n",
    "    def Feature2(self):\n",
    "        print(\"Feature 2 working\")\n",
    "        \n",
    "class B(A):\n",
    "    def Feature3(self):\n",
    "        print(\"Feature 3 working\")\n",
    "        \n",
    "    def Feature4(self):\n",
    "        print(\"Feature 4 working\")\n",
    "\n",
    "class C(B):\n",
    "    def Feature5(self):\n",
    "        print(\"Feature 5 working\")\n",
    "    \n",
    "print(\"---->Object C\")\n",
    "c = C()\n",
    "c.Feature1()\n",
    "c.Feature3()\n",
    "print(\"---->Object B\")\n",
    "b = B()\n",
    "b.Feature1()"
   ]
  },
  {
   "cell_type": "markdown",
   "metadata": {},
   "source": [
    "# Mutliple level Inheritance"
   ]
  },
  {
   "cell_type": "code",
   "execution_count": 3,
   "metadata": {},
   "outputs": [
    {
     "name": "stdout",
     "output_type": "stream",
     "text": [
      "Feature 1 working\n",
      "Feature 4 working\n"
     ]
    }
   ],
   "source": [
    "#C---> A , B\n",
    "class A:\n",
    "    def Feature1(self):\n",
    "        print(\"Feature 1 working\")\n",
    "        \n",
    "    def Feature2(self):\n",
    "        print(\"Feature 2 working\")\n",
    "        \n",
    "class B:\n",
    "    def Feature3(self):\n",
    "        print(\"Feature 3 working\")\n",
    "        \n",
    "    def Feature4(self):\n",
    "        print(\"Feature 4 working\")\n",
    "\n",
    "class C(A, B):\n",
    "    def Feature5(self):\n",
    "        print(\"Feature 5 working\")\n",
    "\n",
    "c = C()\n",
    "c.Feature1()\n",
    "c.Feature4()"
   ]
  },
  {
   "cell_type": "markdown",
   "metadata": {},
   "source": [
    "# Constructor in Inheritance"
   ]
  },
  {
   "cell_type": "code",
   "execution_count": 4,
   "metadata": {},
   "outputs": [
    {
     "name": "stdout",
     "output_type": "stream",
     "text": [
      "A constructor\n",
      "B constructor\n"
     ]
    }
   ],
   "source": [
    "class A:\n",
    "    def __init__(self):\n",
    "        print(\"A constructor\")\n",
    "    def Feature1(self):\n",
    "        print(\"Feature 1 working\")\n",
    "        \n",
    "    def Feature2(self):\n",
    "        print(\"Feature 2 working\")\n",
    "        \n",
    "class B(A):\n",
    "    def __init__(self):\n",
    "        super().__init__()\n",
    "        print(\"B constructor\")\n",
    "    def Feature3(self):\n",
    "        print(\"Feature 3 working\")\n",
    "        \n",
    "    def Feature4(self):\n",
    "        print(\"Feature 4 working\")\n",
    "        \n",
    "b1 = B()"
   ]
  },
  {
   "cell_type": "code",
   "execution_count": 5,
   "metadata": {},
   "outputs": [
    {
     "name": "stdout",
     "output_type": "stream",
     "text": [
      "A constructor\n",
      "C constructor\n",
      "Feature 1-A working\n",
      "----->Calling B Feature 1\n",
      "Feature 1-B working\n"
     ]
    }
   ],
   "source": [
    "class A:\n",
    "    def __init__(self):\n",
    "        print(\"A constructor\")\n",
    "    def Feature1(self):\n",
    "        print(\"Feature 1-A working\")\n",
    "        \n",
    "    def Feature2(self):\n",
    "        print(\"Feature 2 working\")\n",
    "        \n",
    "class B:\n",
    "    def __init__(self):\n",
    "        print(\"B constructor\")\n",
    "    def Feature1(self):\n",
    "        print(\"Feature 1-B working\")\n",
    "        \n",
    "    def Feature4(self):\n",
    "        print(\"Feature 2 working\")\n",
    "        \n",
    "class C(A,B):#left to right\n",
    "    def __init__(self):\n",
    "        super().__init__()\n",
    "        print(\"C constructor\")\n",
    "    def Feat(self):\n",
    "        super().Feature1()\n",
    "        print(\"----->Calling B Feature 1\")\n",
    "        B.Feature1(self)\n",
    "        \n",
    "b1 = C()\n",
    "b1.Feat()"
   ]
  },
  {
   "cell_type": "markdown",
   "metadata": {},
   "source": [
    "# Practice"
   ]
  },
  {
   "cell_type": "code",
   "execution_count": 6,
   "metadata": {},
   "outputs": [
    {
     "name": "stdout",
     "output_type": "stream",
     "text": [
      "Rectangle Area is 12\n",
      "Triangle Area is 8.0\n"
     ]
    }
   ],
   "source": [
    "class Shape:\n",
    "    def SetData(self, width, height):\n",
    "        self._width = width\n",
    "        self._height = height\n",
    "        \n",
    "class Rectangle(Shape):\n",
    "    def Area(self):\n",
    "        return self._width * self._height\n",
    "    \n",
    "class Triangle(Shape):\n",
    "    def Area(self):\n",
    "        return (self._width * self._height) /2    \n",
    "    \n",
    "rectangle = Rectangle()\n",
    "rectangle.SetData(6, 2)\n",
    "print(\"Rectangle Area is\",rectangle.Area())\n",
    "\n",
    "triangle = Triangle()\n",
    "triangle.SetData(8, 2)\n",
    "print(\"Triangle Area is\",triangle.Area())"
   ]
  },
  {
   "cell_type": "code",
   "execution_count": 7,
   "metadata": {},
   "outputs": [
    {
     "name": "stdout",
     "output_type": "stream",
     "text": [
      "Name:Haris \n",
      "Age:19 \n",
      "Gender:Male \n",
      "Company:XYZ \n",
      "Salary:25000\n",
      "No of programming languages Known: 3\n"
     ]
    }
   ],
   "source": [
    "class Person:\n",
    "    def __init__(self, name, age, gender):\n",
    "        self._name = name\n",
    "        self._age = age\n",
    "        self._gender= gender\n",
    "        \n",
    "    def Display(self):\n",
    "        print(f\"Name:{self._name} \\nAge:{self._age} \\nGender:{self._gender} \")\n",
    "        \n",
    "class Employee(Person):\n",
    "    def __init__(self, company, salary, name, age, gender):\n",
    "        super().__init__(name, age, gender)\n",
    "        self._company = company\n",
    "        self._salary = salary\n",
    "    def Display(self):\n",
    "        super().Display()\n",
    "        print(f\"Company:{self._company} \\nSalary:{self._salary}\")\n",
    "        \n",
    "class Programmer(Employee):\n",
    "    def __init__(self, programmingLanguages,company, salary, name, age, gender):\n",
    "        super().__init__(company, salary, name, age, gender)\n",
    "        self._programmingLanguages = programmingLanguages\n",
    "    def Display(self):\n",
    "        super().Display()\n",
    "        print(\"No of programming languages Known:\",self._programmingLanguages)\n",
    "        \n",
    "prog = Programmer(3, \"XYZ\", 25000, \"Haris\", 19, \"Male\")\n",
    "prog.Display()"
   ]
  },
  {
   "cell_type": "code",
   "execution_count": null,
   "metadata": {},
   "outputs": [],
   "source": []
  }
 ],
 "metadata": {
  "kernelspec": {
   "display_name": "Python 3",
   "language": "python",
   "name": "python3"
  },
  "language_info": {
   "codemirror_mode": {
    "name": "ipython",
    "version": 3
   },
   "file_extension": ".py",
   "mimetype": "text/x-python",
   "name": "python",
   "nbconvert_exporter": "python",
   "pygments_lexer": "ipython3",
   "version": "3.8.3"
  }
 },
 "nbformat": 4,
 "nbformat_minor": 4
}
