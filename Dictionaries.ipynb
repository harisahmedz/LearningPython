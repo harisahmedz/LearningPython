{
 "cells": [
  {
   "cell_type": "code",
   "execution_count": 1,
   "metadata": {},
   "outputs": [],
   "source": [
    "\n",
    "#1: Dictionaries\n",
    "#2: Dictionaries: How to code one\n",
    "#3: Dictionaries: How to pick information out of them\n",
    "#4: Dictionaries: The versatility of keys and values\n",
    "#5: Dictionaries: Adding items\n",
    "#6: Dictionaries: Removing and changing items\n",
    "#7: Dictionaries: Looping through values\n",
    "#8: Dictionaries: Looping through keys\n",
    "#9: Dictionaries: Looping through key-value pairs\n",
    "#10: Creating a list of dictionaries\n",
    "#11: How to pick information out of a list of dictionaries\n",
    "#12: How to append a new dictionary to a list of dictionaries\n",
    "#13: Creating a dictionary that contains lists\n",
    "#14: How to get information out of a list within a dictionary\n",
    "#15: Creating a dictionary that contains a dictionary\n",
    "#16: How to get information out of a dictionary within another dictionary"
   ]
  },
  {
   "cell_type": "markdown",
   "metadata": {},
   "source": [
    "# Dictionaries: How to code one"
   ]
  },
  {
   "cell_type": "code",
   "execution_count": 19,
   "metadata": {},
   "outputs": [
    {
     "name": "stdout",
     "output_type": "stream",
     "text": [
      "{'Name': 'Haris Ahmed', 'Age': 19, 'Education': 'BSCS'}\n"
     ]
    }
   ],
   "source": [
    "Info = {\n",
    "    \"Name\": \"Haris Ahmed\",\n",
    "    \"Age\": 19,\n",
    "    \"Education\": \"BSCS\",    \n",
    "}\n",
    "print(Info)"
   ]
  },
  {
   "cell_type": "markdown",
   "metadata": {},
   "source": [
    "# Dictionaries: How to pick information out of them"
   ]
  },
  {
   "cell_type": "code",
   "execution_count": 20,
   "metadata": {},
   "outputs": [
    {
     "data": {
      "text/plain": [
       "'Haris Ahmed'"
      ]
     },
     "execution_count": 20,
     "metadata": {},
     "output_type": "execute_result"
    }
   ],
   "source": [
    "Info[\"Name\"]"
   ]
  },
  {
   "cell_type": "markdown",
   "metadata": {},
   "source": [
    "# Dictionaries: The versatility of keys and values"
   ]
  },
  {
   "cell_type": "code",
   "execution_count": 21,
   "metadata": {},
   "outputs": [],
   "source": [
    "dic = {\n",
    "    \"Nums in Dozen\": 12,\n",
    "    0: \"Zero\",\n",
    "    \"Float\": 254.558,\n",
    "}"
   ]
  },
  {
   "cell_type": "markdown",
   "metadata": {},
   "source": [
    "# Dictionaries: Adding items"
   ]
  },
  {
   "cell_type": "code",
   "execution_count": 22,
   "metadata": {},
   "outputs": [
    {
     "name": "stdout",
     "output_type": "stream",
     "text": [
      "{'Name': 'Haris Ahmed', 'Age': 19, 'Education': 'BSCS', 'Expert': 'Pyhton'}\n",
      "{'Name': 'Haris Ahmed', 'Age': 19, 'Education': 'BSCS', 'Expert': 'Pyhton', 'Email': 'hariszain3@gmail.com'}\n",
      "{'Name': 'Haris Ahmed', 'Age': 19, 'Education': 'BSCS', 'Expert': 'Pyhton', 'Email': 'hariszain3@gmail.com', 'Contact No.': '0321895090', 'Country': 'Pakistan', 'City': 'Karachi'}\n"
     ]
    }
   ],
   "source": [
    "Info[\"Expert\"] = \"Pyhton\"\n",
    "print(Info)\n",
    "Info[\"Email\"] = \"hariszain3@gmail.com\"\n",
    "print(Info)\n",
    "Info[\"Contact No.\"] = \"0321895090\"\n",
    "Info[\"Country\"] = \"Pakistan\"\n",
    "Info[\"City\"] = \"Karachi\"\n",
    "print(Info)"
   ]
  },
  {
   "cell_type": "markdown",
   "metadata": {},
   "source": [
    "# Removing and changing items"
   ]
  },
  {
   "cell_type": "code",
   "execution_count": 23,
   "metadata": {},
   "outputs": [
    {
     "name": "stdout",
     "output_type": "stream",
     "text": [
      "{'Name': 'Haris Ahmed', 'Age': 19, 'Education': 'BSCS', 'Expert': 'Pyhton', 'Email': 'hariszain3@gmail.com', 'Country': 'Pakistan', 'City': 'Karachi'}\n"
     ]
    }
   ],
   "source": [
    "del Info[\"Contact No.\"]\n",
    "print(Info)\n",
    "del Info[\"Country\"]"
   ]
  },
  {
   "cell_type": "code",
   "execution_count": 24,
   "metadata": {},
   "outputs": [
    {
     "name": "stdout",
     "output_type": "stream",
     "text": [
      "{'Name': 'Haris Ahmed', 'Age': 19, 'Education': 'BSCS', 'Expert': 'Pyhton', 'Email': 'hariszain3@gmail.com', 'City': 'Karachi'}\n"
     ]
    }
   ],
   "source": [
    "print(Info)"
   ]
  },
  {
   "cell_type": "code",
   "execution_count": 25,
   "metadata": {},
   "outputs": [
    {
     "name": "stdout",
     "output_type": "stream",
     "text": [
      "{'Name': 'Haris Ahmed', 'Age': 19, 'Education': 'BSCS', 'Expert': 'Pyhton and C#', 'Email': 'harisahmedzain@gmail.com', 'City': 'Karachi'}\n"
     ]
    }
   ],
   "source": [
    "Info[\"Email\"] = \"harisahmedzain@gmail.com\"\n",
    "Info[\"Expert\"] = \"Pyhton and C#\"\n",
    "print(Info)"
   ]
  },
  {
   "cell_type": "markdown",
   "metadata": {},
   "source": [
    "# Dictionaries: Looping through values\n"
   ]
  },
  {
   "cell_type": "code",
   "execution_count": 30,
   "metadata": {},
   "outputs": [
    {
     "name": "stdout",
     "output_type": "stream",
     "text": [
      "Haris Ahmed\n",
      "19\n",
      "BSCS\n",
      "Pyhton and C#\n",
      "harisahmedzain@gmail.com\n",
      "Karachi\n",
      "-----------------------------------\n",
      "12\n",
      "Zero\n",
      "254.558\n"
     ]
    }
   ],
   "source": [
    "for val in Info.values():\n",
    "    print(val)\n",
    "\n",
    "print(\"-----------------------------------\")    \n",
    "for val in dic.values():\n",
    "    print(val)"
   ]
  },
  {
   "cell_type": "markdown",
   "metadata": {},
   "source": [
    "# Dictionaries: Looping through keys\n"
   ]
  },
  {
   "cell_type": "code",
   "execution_count": 37,
   "metadata": {},
   "outputs": [
    {
     "name": "stdout",
     "output_type": "stream",
     "text": [
      "Name\n",
      "Age\n",
      "Education\n",
      "Expert\n",
      "Email\n",
      "City\n",
      "-----------------------------------\n",
      "Nums in Dozen\n",
      "0\n",
      "Float\n"
     ]
    }
   ],
   "source": [
    "for key in Info.keys():\n",
    "    print(key)\n",
    "    \n",
    "print(\"-----------------------------------\")   \n",
    "for key in dic.keys():\n",
    "    print(key)"
   ]
  },
  {
   "cell_type": "markdown",
   "metadata": {},
   "source": [
    "# Dictionaries: Looping through key-value pairs\n"
   ]
  },
  {
   "cell_type": "code",
   "execution_count": 40,
   "metadata": {},
   "outputs": [
    {
     "name": "stdout",
     "output_type": "stream",
     "text": [
      "Name : Haris Ahmed \n",
      "Age : 19 \n",
      "Education : BSCS \n",
      "Expert : Pyhton and C# \n",
      "Email : harisahmedzain@gmail.com \n",
      "City : Karachi \n",
      "----------------------------------------------\n",
      "Nums in Dozen : 12\n",
      "0 : Zero\n",
      "Float : 254.558\n"
     ]
    }
   ],
   "source": [
    "for e_key, e_value in Info.items():\n",
    "    print(\"{0} : {1} \".format(e_key, e_value))\n",
    "print(\"----------------------------------------------\")\n",
    "for e_key, e_value in dic.items():\n",
    "    print(\"{} : {}\".format(e_key, e_value))"
   ]
  },
  {
   "cell_type": "markdown",
   "metadata": {},
   "source": [
    "# Creating a list of dictionaries\n"
   ]
  },
  {
   "cell_type": "code",
   "execution_count": 2,
   "metadata": {},
   "outputs": [
    {
     "name": "stdout",
     "output_type": "stream",
     "text": [
      "[{'Name': 'Haris Ahmed', 'Date of Birth': '23 June 2001'}, {'Position': 'Senior Programmer', 'Employee Id': 11180}, {'Basic Pay': 180000, 'Medical': 5000}]\n"
     ]
    }
   ],
   "source": [
    "Employee = [\n",
    "    {\n",
    "        \"Name\" : \"Haris Ahmed\",\n",
    "        \"Date of Birth\" : \"23 June 2001\",\n",
    "    },\n",
    "    {\n",
    "        \"Position\": \"Senior Programmer\",\n",
    "        \"Employee Id\": 11180,\n",
    "    },\n",
    "    {\n",
    "        \"Basic Pay\": 180000,\n",
    "        \"Medical\": 5000,\n",
    "    },\n",
    "    \n",
    "]\n",
    "print(Employee)"
   ]
  },
  {
   "cell_type": "markdown",
   "metadata": {},
   "source": [
    "# How to pick information out of a list of dictionaries"
   ]
  },
  {
   "cell_type": "code",
   "execution_count": 3,
   "metadata": {},
   "outputs": [
    {
     "name": "stdout",
     "output_type": "stream",
     "text": [
      "Haris Ahmed\n",
      "{'Name': 'Haris Ahmed', 'Date of Birth': '23 June 2001'}\n",
      "5000\n"
     ]
    }
   ],
   "source": [
    "x = Employee[0][\"Name\"]\n",
    "print(x)\n",
    "x = Employee[0]\n",
    "print(x)\n",
    "x = Employee[2]\n",
    "y = x[\"Medical\"]\n",
    "print(y)"
   ]
  },
  {
   "cell_type": "markdown",
   "metadata": {},
   "source": [
    "# How to append a new dictionary to a list of dictionaries\n"
   ]
  },
  {
   "cell_type": "code",
   "execution_count": 4,
   "metadata": {},
   "outputs": [
    {
     "name": "stdout",
     "output_type": "stream",
     "text": [
      "[{'Name': 'Haris Ahmed', 'Date of Birth': '23 June 2001'}, {'Position': 'Senior Programmer', 'Employee Id': 11180}, {'Basic Pay': 180000, 'Medical': 5000}, {'Project': 'AI'}]\n"
     ]
    }
   ],
   "source": [
    "dic = {\n",
    "    \"Project\": \"Data Science\",\n",
    "    \"Project\": \"AI\", \n",
    "}\n",
    "Employee.append(dic)\n",
    "print(Employee)"
   ]
  },
  {
   "cell_type": "markdown",
   "metadata": {},
   "source": [
    "# Creating a dictionary that contains lists\n"
   ]
  },
  {
   "cell_type": "code",
   "execution_count": 8,
   "metadata": {},
   "outputs": [],
   "source": [
    "dic = {\n",
    "    \"Name\": \"Haris Ahmed\",\n",
    "    \"Skills\": [\"Pyhton\", \"C#\", \"Web Design\", \"Video Editing\", \"Graphic Designing\"],\n",
    "    \"Age\":  19,\n",
    "}\n",
    "alist = [\n",
    "    {\n",
    "        \"Name\": \"Haris Ahmed\",\n",
    "        \"Skills\": [\"Pyhton\", \"C#\", \"Web Design\", \"Video Editing\", \"Graphic Designing\"],\n",
    "        \"Age\":  19,\n",
    "    },\n",
    "    {\n",
    "        \"Name\": \"Farhan Ali\",\n",
    "        \"Skills\": [\"Pyhton\", \"C#\", \"Web Design\"],\n",
    "        \"Age\":  20,\n",
    "    },\n",
    "]"
   ]
  },
  {
   "cell_type": "markdown",
   "metadata": {},
   "source": [
    "# How to get information out of a list within a dictionary\n"
   ]
  },
  {
   "cell_type": "code",
   "execution_count": 21,
   "metadata": {},
   "outputs": [
    {
     "name": "stdout",
     "output_type": "stream",
     "text": [
      "Web Design\n",
      "C#\n",
      "Web Design\n",
      "C#\n",
      "Employee Hired\n"
     ]
    }
   ],
   "source": [
    "x = dic[\"Skills\"][2]\n",
    "print(x)\n",
    "x = dic[\"Skills\"]\n",
    "y = x[1]\n",
    "print(y)\n",
    "x= alist[0][\"Skills\"][2]\n",
    "print(x)\n",
    "x= alist[0][\"Skills\"]\n",
    "y = x[1]\n",
    "print(y)\n",
    "\n",
    "if \"Pyhton\" in dic[\"Skills\"]:\n",
    "    print(\"Employee Hired\")\n",
    "elif \"C#\" in dic[\"Skills\"]:\n",
    "    print(\"Employee On 1 year Contract\")\n",
    "else:\n",
    "    print(\"Not Hired\")\n"
   ]
  },
  {
   "cell_type": "markdown",
   "metadata": {},
   "source": [
    "# Creating a dictionary that contains a dictionary\n"
   ]
  },
  {
   "cell_type": "code",
   "execution_count": 22,
   "metadata": {},
   "outputs": [],
   "source": [
    "Intership = {\n",
    "    0: {\n",
    "        \n",
    "        \"Name\": \"Haris Ahmed\",\n",
    "        \"Skills\": [\"Pyhton\", \"C#\", \"Web Design\", \"Video Editing\", \"Graphic Designing\"],\n",
    "        \"Age\":  19,\n",
    "    },\n",
    "    \n",
    "    1: {\n",
    "        \n",
    "        \"Name\": \"Farhan Ali\",\n",
    "        \"Skills\": [\"Pyhton\", \"C#\", \"Web Design\"],\n",
    "        \"Age\":  20,\n",
    "    },\n",
    "    \"Dic\" :{\n",
    "        1 : \"uno\"\n",
    "    }\n",
    "}"
   ]
  },
  {
   "cell_type": "markdown",
   "metadata": {},
   "source": [
    "# How to get information out of a dictionary within another dictionary"
   ]
  },
  {
   "cell_type": "code",
   "execution_count": 23,
   "metadata": {},
   "outputs": [
    {
     "name": "stdout",
     "output_type": "stream",
     "text": [
      "Haris Ahmed\n",
      "Web Design\n"
     ]
    }
   ],
   "source": [
    "x = Intership[0][\"Name\"]\n",
    "print(x)\n",
    "x = Intership[0][\"Skills\"][2]\n",
    "print(x)\n"
   ]
  },
  {
   "cell_type": "code",
   "execution_count": null,
   "metadata": {},
   "outputs": [],
   "source": []
  },
  {
   "cell_type": "markdown",
   "metadata": {},
   "source": [
    "# PRACTICE QUESTIONS"
   ]
  },
  {
   "cell_type": "code",
   "execution_count": 53,
   "metadata": {},
   "outputs": [
    {
     "name": "stdout",
     "output_type": "stream",
     "text": [
      "{'Ten': 10, 'Twenty': 20, 'Thirty': 30, 'Fourty': 40, 'Fifty': 50}\n",
      "{'Ten': 10, 'Twenty': 20, 'Thirty': 30, 'Fourty': 40, 'Fifty': 50}\n"
     ]
    }
   ],
   "source": [
    "#Merge following two Python dictionaries into one\n",
    "dict1 = {'Ten': 10, 'Twenty': 20, 'Thirty': 30}\n",
    "dict2 = {'Thirty': 30, 'Fourty': 40, 'Fifty': 50}\n",
    "dic = {**dict1 ,**dict2}\n",
    "print(dic)\n",
    "\n",
    "for key,value in dict2.items():\n",
    "    dict1[key] = value\n",
    "\n",
    "print(dict1)     "
   ]
  },
  {
   "cell_type": "code",
   "execution_count": 33,
   "metadata": {},
   "outputs": [
    {
     "name": "stdout",
     "output_type": "stream",
     "text": [
      "80\n"
     ]
    }
   ],
   "source": [
    "#Access the value of key ‘history’\n",
    "sampleDict = { \n",
    "   \"class\":{ \n",
    "      \"student\":{ \n",
    "         \"name\":\"Mike\",\n",
    "         \"marks\":{ \n",
    "            \"physics\":70,\n",
    "            \"history\":80\n",
    "         }\n",
    "      }\n",
    "   }\n",
    "}\n",
    "hist = sampleDict[\"class\"][\"student\"][\"marks\"][\"history\"]\n",
    "print(hist)"
   ]
  },
  {
   "cell_type": "code",
   "execution_count": 51,
   "metadata": {},
   "outputs": [
    {
     "name": "stdout",
     "output_type": "stream",
     "text": [
      "{'name': 'Kelly', 'salary': 8000}\n",
      "{'name': 'Kelly', 'salary': 8000}\n",
      "{'name': 'Kelly', 'salary': 8000}\n"
     ]
    }
   ],
   "source": [
    "#Create a new dictionary by extracting the following keys from a given dictionary\n",
    "#Given dictionary:\n",
    "\n",
    "sampleDict = {\n",
    "  \"name\": \"Kelly\",\n",
    "  \"age\":25,\n",
    "  \"salary\": 8000,\n",
    "  \"city\": \"New york\"\n",
    "  \n",
    "}\n",
    "\n",
    "#Keys to extract\n",
    "Keys = [\"name\", \"salary\"]\n",
    "dict1 = {\n",
    "    Keys[0]:sampleDict[Keys[0]],\n",
    "    Keys[1]:sampleDict[Keys[1]]\n",
    "\n",
    "}\n",
    "print(dict1)\n",
    "\n",
    "dict2 = {\n",
    "    k : sampleDict[k] for k in Keys\n",
    "}\n",
    "print(dict2)\n",
    "\n",
    "dict3 = {}\n",
    "for k in Keys:\n",
    "    dict3[k] = sampleDict[k]    \n",
    "print(dict3)"
   ]
  },
  {
   "cell_type": "code",
   "execution_count": 44,
   "metadata": {},
   "outputs": [
    {
     "name": "stdout",
     "output_type": "stream",
     "text": [
      "{'age': 25, 'city': 'New york'}\n"
     ]
    }
   ],
   "source": [
    "#Delete set of keys from Python Dictionary:\n",
    "\n",
    "sampleDict = {\n",
    "  \"name\": \"Kelly\",\n",
    "  \"age\":25,\n",
    "  \"salary\": 8000,\n",
    "  \"city\": \"New york\"\n",
    "  \n",
    "}\n",
    "keysToRemove = [\"name\", \"salary\"]\n",
    "\n",
    "for k in keysToRemove:\n",
    "    del sampleDict[k]\n",
    "    \n",
    "print(sampleDict)"
   ]
  },
  {
   "cell_type": "code",
   "execution_count": 57,
   "metadata": {},
   "outputs": [
    {
     "name": "stdout",
     "output_type": "stream",
     "text": [
      "Exist\n",
      "True\n"
     ]
    }
   ],
   "source": [
    "#Check if a value 200 exists in a dictionary\n",
    "sampleDict = {'a': 100, 'b': 200, 'c': 300}\n",
    "\n",
    "for value in sampleDict.values():\n",
    "    if value == 200:\n",
    "        print(\"Exist\")\n",
    "        break\n",
    "\n",
    "print(200 in sampleDict.values())"
   ]
  },
  {
   "cell_type": "code",
   "execution_count": 59,
   "metadata": {},
   "outputs": [
    {
     "name": "stdout",
     "output_type": "stream",
     "text": [
      "{'name': 'Kelly', 'age': 25, 'salary': 8000, 'Location': 'New york'}\n"
     ]
    }
   ],
   "source": [
    "#Rename key city to location in the following dictionary\n",
    "sampleDict = {\n",
    "  \"name\": \"Kelly\",\n",
    "  \"age\":25,\n",
    "  \"salary\": 8000,\n",
    "  \"city\": \"New york\"\n",
    "}\n",
    "sampleDict[\"Location\"] = sampleDict.pop(\"city\")\n",
    "print(sampleDict)"
   ]
  },
  {
   "cell_type": "code",
   "execution_count": 67,
   "metadata": {},
   "outputs": [
    {
     "name": "stdout",
     "output_type": "stream",
     "text": [
      "65\n"
     ]
    }
   ],
   "source": [
    "#Get the key corresponding to the minimum value from the following dictionary\n",
    "sampleDict = {\n",
    "  'Physics': 82,\n",
    "  'Math': 65,\n",
    "  'history': 75\n",
    "}\n",
    "t = min(sampleDict.values())\n",
    "print(t)\n"
   ]
  },
  {
   "cell_type": "code",
   "execution_count": 66,
   "metadata": {},
   "outputs": [
    {
     "name": "stdout",
     "output_type": "stream",
     "text": [
      "{'emp1': {'name': 'Jhon', 'salary': 7500}, 'emp2': {'name': 'Emma', 'salary': 8000}, 'emp3': {'name': 'Brad', 'salary': 8500}}\n"
     ]
    }
   ],
   "source": [
    "#Given a Python dictionary, Change Brad’s salary to 8500\n",
    "sampleDict = {\n",
    "     'emp1': {'name': 'Jhon', 'salary': 7500},\n",
    "     'emp2': {'name': 'Emma', 'salary': 8000},\n",
    "     'emp3': {'name': 'Brad', 'salary': 6500}\n",
    "}\n",
    "sampleDict['emp3']['salary'] = 8500\n",
    "print(sampleDict)"
   ]
  },
  {
   "cell_type": "code",
   "execution_count": 68,
   "metadata": {},
   "outputs": [
    {
     "name": "stdout",
     "output_type": "stream",
     "text": [
      "{0: 10, 1: 20, 3: 30}\n"
     ]
    }
   ],
   "source": [
    "#Write a Python script to add a key to a dictionary.\n",
    "#Sample Dictionary : {0: 10, 1: 20}\n",
    "sampleDict = {0: 10, 1: 20}\n",
    "sampleDict[3] = 30\n",
    "print(sampleDict)"
   ]
  },
  {
   "cell_type": "code",
   "execution_count": 2,
   "metadata": {},
   "outputs": [
    {
     "name": "stdout",
     "output_type": "stream",
     "text": [
      "{1: 10, 2: 20, 3: 30, 4: 40, 5: 50, 6: 60}\n",
      "{1: 10, 2: 20, 3: 30, 4: 40, 5: 50, 6: 60}\n"
     ]
    }
   ],
   "source": [
    "#Write a Python script to concatenate following dictionaries to create a new one. \n",
    "\n",
    "#Sample Dictionary :\n",
    "dic1={1:10, 2:20}\n",
    "dic2={3:30, 4:40}\n",
    "dic3={5:50,6:60}\n",
    "\n",
    "dic4 = {} \n",
    "\n",
    "for i in (dic1, dic2, dic3):\n",
    "    for key, value in i.items():\n",
    "        dic4[key] = value\n",
    "print(dic4) \n",
    "\n",
    "dic1.update(dic2)\n",
    "dic1.update(dic3)\n",
    "print(dic1) \n",
    "\n",
    "\n"
   ]
  },
  {
   "cell_type": "code",
   "execution_count": 12,
   "metadata": {},
   "outputs": [
    {
     "name": "stdout",
     "output_type": "stream",
     "text": [
      "Enter Key to check: 2\n",
      "Key Existed: True\n"
     ]
    }
   ],
   "source": [
    "#Write a Python program to check whether a given key already exists in a dictionary.\n",
    "d = {1: 10, 2: 20, 3: 30, 4: 40, 5: 50, 6: 60}\n",
    "x = int(input(\"Enter Key to check: \"))\n",
    "\n",
    "print(\"Key Existed: \", end=\"\")\n",
    "print(x in d.keys())\n"
   ]
  },
  {
   "cell_type": "code",
   "execution_count": 15,
   "metadata": {},
   "outputs": [
    {
     "name": "stdout",
     "output_type": "stream",
     "text": [
      "Enter number: 5\n",
      "{1: 1, 2: 4, 3: 9, 4: 16, 5: 25}\n"
     ]
    }
   ],
   "source": [
    "#Write a Python script to generate and print a dictionary that contains a number (between 1 and n) in the form (x, x*x).\n",
    "x = int(input(\"Enter number: \"))\n",
    "d = {}\n",
    "for i in range(1, x+1, 1):\n",
    "    d[i] = i*i\n",
    "\n",
    "print(d)"
   ]
  },
  {
   "cell_type": "code",
   "execution_count": 19,
   "metadata": {},
   "outputs": [
    {
     "name": "stdout",
     "output_type": "stream",
     "text": [
      "293\n"
     ]
    }
   ],
   "source": [
    "#Write a Python program to sum all the items in a dictionary.\n",
    "my_dict = {'data1':100,'data2':-54,'data3':247}\n",
    "\n",
    "sumof = 0\n",
    "\n",
    "for i in my_dict.values():\n",
    "    sumof += i\n",
    "\n",
    "print(sumof)"
   ]
  },
  {
   "cell_type": "code",
   "execution_count": 1,
   "metadata": {},
   "outputs": [
    {
     "name": "stdout",
     "output_type": "stream",
     "text": [
      "black : #000000\n",
      "green : #008000\n",
      "red : #FF0000\n",
      "white : #FFFFFF\n"
     ]
    }
   ],
   "source": [
    "# Write a Python program to sort a dictionary by key.\n",
    "color_dict = {\n",
    "    'red':'#FF0000',\n",
    "    'green':'#008000',\n",
    "    'black':'#000000',\n",
    "    'white':'#FFFFFF',\n",
    "}\n",
    "\n",
    "for key in sorted(color_dict):\n",
    "    print(\"{} : {}\".format(key,color_dict[key] ))\n",
    "\n"
   ]
  },
  {
   "cell_type": "code",
   "execution_count": 10,
   "metadata": {},
   "outputs": [
    {
     "name": "stdout",
     "output_type": "stream",
     "text": [
      "Empty dictionary\n"
     ]
    }
   ],
   "source": [
    "#Write a Python program to check a dictionary is empty or not.\n",
    "dict1 = {}\n",
    "if bool(dict1) is False:\n",
    "    print(\"Empty dictionary\")\n",
    "else:     \n",
    "    print(\"dictionary is not  Empty \")"
   ]
  },
  {
   "cell_type": "code",
   "execution_count": 13,
   "metadata": {},
   "outputs": [
    {
     "name": "stdout",
     "output_type": "stream",
     "text": [
      "{'id1': {'name': ['Sara'], 'class': ['V'], 'subject_integration': ['english, math, science']}, 'id2': {'name': ['David'], 'class': ['V'], 'subject_integration': ['english, math, science']}, 'id4': {'name': ['Surya'], 'class': ['V'], 'subject_integration': ['english, math, science']}}\n"
     ]
    }
   ],
   "source": [
    "#Write a Python program to remove duplicates from Dictionary.\n",
    "\n",
    "student_data = {\n",
    "    'id1': {\n",
    "    'name': ['Sara'], \n",
    "    'class': ['V'], \n",
    "    'subject_integration': ['english, math, science']\n",
    "        \n",
    "   },\n",
    "     'id2': {\n",
    "     'name': ['David'], \n",
    "     'class': ['V'], \n",
    "     'subject_integration': ['english, math, science']\n",
    "   },\n",
    " 'id3': {\n",
    "    'name': ['Sara'], \n",
    "    'class': ['V'], \n",
    "    'subject_integration': ['english, math, science']\n",
    "   },\n",
    " 'id4': {\n",
    "    'name': ['Surya'], \n",
    "    'class': ['V'], \n",
    "    'subject_integration': ['english, math, science']\n",
    "   },\n",
    "}\n",
    "\n",
    "result = {}\n",
    "\n",
    "for key,value in student_data.items():\n",
    "    if value not in result.values():\n",
    "        result[key] = value\n",
    "\n",
    "print(result)"
   ]
  },
  {
   "cell_type": "code",
   "execution_count": 42,
   "metadata": {},
   "outputs": [
    {
     "name": "stdout",
     "output_type": "stream",
     "text": [
      "{'a': 400, 'b': 400, 'c': 300, 'd': 400}\n"
     ]
    }
   ],
   "source": [
    "#Write a Python program to combine two dictionary adding values for common keys\n",
    "d1 = {'a': 100, 'b': 200, 'c':300}\n",
    "d2 = {'a': 300, 'b': 200, 'd':400}\n",
    "d ={}\n",
    "d.update(d1)\n",
    "d.update(d2)\n",
    "\n",
    "for i, j in d1.items():\n",
    "    for x, y in d2.items():\n",
    "        if i == x:\n",
    "            d[i] = y + j\n",
    "print(d)        "
   ]
  },
  {
   "cell_type": "code",
   "execution_count": 84,
   "metadata": {},
   "outputs": [
    {
     "name": "stdout",
     "output_type": "stream",
     "text": [
      "ac\n",
      "ad\n",
      "bc\n",
      "bd\n"
     ]
    }
   ],
   "source": [
    "# Write a Python program to create and display all combinations of letters, selecting each letter from \n",
    "#a different key in a dictionary. \n",
    "data = {'1':[\"a\",'b'], '2':[\"c\",'d']}\n",
    "\n",
    "a, b = data.values()\n",
    "\n",
    "\n",
    "for i in a:\n",
    "    for j in b: \n",
    "        print(i + j)\n"
   ]
  },
  {
   "cell_type": "code",
   "execution_count": 92,
   "metadata": {},
   "outputs": [
    {
     "name": "stdout",
     "output_type": "stream",
     "text": [
      "[20, 400, 500, 560, 5874, 5874]\n",
      "560\n",
      "5874\n",
      "5874\n"
     ]
    }
   ],
   "source": [
    "#Write a Python program to find the highest 3 values in a dictionary.\n",
    "my_dict = {'a':500, 'b':5874, 'c': 560,'d':400, 'e':5874, 'f': 20}  \n",
    "my_dict = sorted(my_dict.values())\n",
    "print(my_dict)\n",
    "\n",
    "print(my_dict[-3])\n",
    "print(my_dict[-2])\n",
    "print(my_dict[-1])"
   ]
  },
  {
   "cell_type": "code",
   "execution_count": 99,
   "metadata": {},
   "outputs": [
    {
     "name": "stdout",
     "output_type": "stream",
     "text": [
      "{'item1': 750, 'item2': 300}\n"
     ]
    }
   ],
   "source": [
    "#Write a Python program to combine values in python list of dictionaries. \n",
    "sampleData = [{'item': 'item1', 'amount': 400}, {'item': 'item2', 'amount': 300}, {'item': 'item1', 'amount': 750}]\n",
    "dic = {}\n",
    "\n",
    "for i in sampleData:\n",
    "    dic[i[\"item\"]] = i[\"amount\"]\n",
    "\n",
    "print(dic)"
   ]
  },
  {
   "cell_type": "code",
   "execution_count": 101,
   "metadata": {},
   "outputs": [
    {
     "name": "stdout",
     "output_type": "stream",
     "text": [
      "2\n"
     ]
    }
   ],
   "source": [
    "#Write a Python program to count the values associated with key in a dictionary. \n",
    "#Count of how many dictionaries have success as True\n",
    "sampleData = [{'id': 1, 'success': True, 'name': 'Lary'}, {'id': 2, 'success': False, 'name': 'Rabi'},\n",
    "              {'id': 3, 'success': True, 'name': 'Alex'}]\n",
    "count = 0\n",
    "for i in sampleData:\n",
    "    if i['success'] == True:\n",
    "        count +=1\n",
    "\n",
    "print(count)"
   ]
  },
  {
   "cell_type": "code",
   "execution_count": null,
   "metadata": {},
   "outputs": [],
   "source": []
  }
 ],
 "metadata": {
  "kernelspec": {
   "display_name": "Python 3",
   "language": "python",
   "name": "python3"
  },
  "language_info": {
   "codemirror_mode": {
    "name": "ipython",
    "version": 3
   },
   "file_extension": ".py",
   "mimetype": "text/x-python",
   "name": "python",
   "nbconvert_exporter": "python",
   "pygments_lexer": "ipython3",
   "version": "3.7.4"
  }
 },
 "nbformat": 4,
 "nbformat_minor": 2
}
