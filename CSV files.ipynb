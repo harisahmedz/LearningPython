{
 "cells": [
  {
   "cell_type": "code",
   "execution_count": 1,
   "metadata": {},
   "outputs": [],
   "source": [
    "#CSV files\n",
    "#CSV files: Reading them\n",
    "#CSV files: Picking information out of them\n",
    "#CSV files: Loading information into them. Part 1\n",
    "#CSV files: Loading information into them. Part 2\n",
    "#CSV files: Loading information into them. Part 3\n",
    "#CSV files: Appending rows to them"
   ]
  },
  {
   "cell_type": "markdown",
   "metadata": {},
   "source": [
    "# CSV files"
   ]
  },
  {
   "cell_type": "code",
   "execution_count": 2,
   "metadata": {},
   "outputs": [],
   "source": [
    "import csv"
   ]
  },
  {
   "cell_type": "markdown",
   "metadata": {},
   "source": [
    "# CSV files: Reading them"
   ]
  },
  {
   "cell_type": "code",
   "execution_count": 3,
   "metadata": {},
   "outputs": [
    {
     "name": "stdout",
     "output_type": "stream",
     "text": [
      "Potion                   \tEffect                   \tTelltale Property        \n",
      "Amortentia               \tLove                     \tSteam                    \n",
      "Confusing Concoction     \tConfusion                \tNausea                   \n",
      "Draught of Living Death  \tSleep                    \tTurns leaf to ashes      \n",
      "Draught of Peace         \tComfort                  \tNone                     \n",
      "Felix Felicis            \tLuck                     \tGiddiness                \n",
      "Hiccoughing Potion       \tStops hiccoughs          \tNone                     \n",
      "Pepperup Potion          \tHealth                   \tSteaming Ears            \n",
      "Polyjuice Potion         \tShape shifting           \tVoice change             \n",
      "Skele-Gro                \tBone growth              \tDisgusting taste         \n",
      "Sleekeazy's Hair Potion  \tHair straightener        \tNone                     \n",
      "Veritaserum              \tTruth-telling            \tNone                     \n"
     ]
    }
   ],
   "source": [
    "def ReaderCSV(fileName):\n",
    "    with open(fileName) as csv_file:\n",
    "        data = csv.reader(csv_file)\n",
    "        rows = []\n",
    "        for value in data:\n",
    "            rows += value\n",
    "    for i in range(len(rows)):\n",
    "        if ((i+1) % 3)  == 0:\n",
    "            print(rows[i].ljust(25))\n",
    "        else:\n",
    "            print(rows[i].ljust(25),end = \"\\t\")\n",
    "            \n",
    "ReaderCSV(\"potions.csv\")"
   ]
  },
  {
   "cell_type": "markdown",
   "metadata": {},
   "source": [
    "# CSV files: Picking information out of them"
   ]
  },
  {
   "cell_type": "code",
   "execution_count": 4,
   "metadata": {},
   "outputs": [
    {
     "name": "stdout",
     "output_type": "stream",
     "text": [
      "Enter Potion Name or Effect: Sleep\n",
      "Potion                    \t Effect                    \t Telltale Property        \n",
      "Draught of Living Death  \t Sleep                    \t Turns leaf to ashes      \t "
     ]
    }
   ],
   "source": [
    "with open(\"potions.csv\") as csv_file:\n",
    "    data = csv.reader(csv_file)\n",
    "    rows = []\n",
    "    for value in data:\n",
    "        rows += value\n",
    "potionName = input(\"Enter Potion Name or Effect: \")\n",
    "target =  rows.index(potionName)\n",
    "rowNumber =int(target/3)\n",
    "        #Potion                Effect                Telltale Property \n",
    "print(rows[0].ljust(25),\"\\t\", rows[1].ljust(25),\"\\t\",rows[2].ljust(25))\n",
    "\n",
    "for i in range((rowNumber*3),(rowNumber*3)+3):\n",
    "    print(rows[i].ljust(25), end=\"\\t \")\n"
   ]
  },
  {
   "cell_type": "markdown",
   "metadata": {},
   "source": [
    "# CSV files: Loading information into them."
   ]
  },
  {
   "cell_type": "code",
   "execution_count": 6,
   "metadata": {},
   "outputs": [
    {
     "name": "stdout",
     "output_type": "stream",
     "text": [
      "Year                     \tHost                     \tChampion                 \n",
      "2018                     \tRussia                   \tFrance                   \n",
      "2014                     \tBrazil                   \tGermany                  \n"
     ]
    }
   ],
   "source": [
    "with open(\"Worldcup.csv\", \"w\", newline=\"\") as f: #CSV files: Loading information into them. Part 1\n",
    "    data = csv.writer(f, delimiter=\",\") #CSV files: Loading information into them. Part 2\n",
    "    data.writerow([\"Year\",\"Host\",\"Champion\"])#CSV files: Loading information into them. Part 3\n",
    "    data.writerow([\"2018\",\"Russia\",\"France\"])\n",
    "    data.writerow([\"2014\",\"Brazil\",\"Germany\"])\n",
    "ReaderCSV(\"Worldcup.csv\") #printing them"
   ]
  },
  {
   "cell_type": "markdown",
   "metadata": {},
   "source": [
    "# CSV files: Appending rows to them"
   ]
  },
  {
   "cell_type": "code",
   "execution_count": 7,
   "metadata": {},
   "outputs": [
    {
     "name": "stdout",
     "output_type": "stream",
     "text": [
      "Year                     \tHost                     \tChampion                 \n",
      "2018                     \tRussia                   \tFrance                   \n",
      "2014                     \tBrazil                   \tGermany                  \n",
      "2010                     \tSouth Africa             \tSpain                    \n",
      "2006                     \tGermany                  \tItaly                    \n"
     ]
    }
   ],
   "source": [
    "with open(\"Worldcup.csv\", \"a\", newline=\"\") as f: \n",
    "    data = csv.writer(f, delimiter=\",\") \n",
    "    data.writerow([\"2010\",\"South Africa\",\"Spain\"])\n",
    "    data.writerow([\"2006\",\"Germany\",\"Italy\"])\n",
    "ReaderCSV(\"Worldcup.csv\") #printing them"
   ]
  }
 ],
 "metadata": {
  "kernelspec": {
   "display_name": "Python 3",
   "language": "python",
   "name": "python3"
  },
  "language_info": {
   "codemirror_mode": {
    "name": "ipython",
    "version": 3
   },
   "file_extension": ".py",
   "mimetype": "text/x-python",
   "name": "python",
   "nbconvert_exporter": "python",
   "pygments_lexer": "ipython3",
   "version": "3.8.3"
  }
 },
 "nbformat": 4,
 "nbformat_minor": 4
}
