{
 "cells": [
  {
   "cell_type": "code",
   "execution_count": 1,
   "metadata": {},
   "outputs": [],
   "source": [
    "#Data files\n",
    "#Data files: Storing data\n",
    "#Data files: Retrieving data\n",
    "#Data files: Appending data"
   ]
  },
  {
   "cell_type": "markdown",
   "metadata": {},
   "source": [
    "# Data files"
   ]
  },
  {
   "cell_type": "code",
   "execution_count": 2,
   "metadata": {},
   "outputs": [],
   "source": [
    "with open(\"greet.txt\" , \"w\") as f:\n",
    "    f.write(\"Hello\")"
   ]
  },
  {
   "cell_type": "markdown",
   "metadata": {},
   "source": [
    "# Data files: Storing data"
   ]
  },
  {
   "cell_type": "code",
   "execution_count": 3,
   "metadata": {},
   "outputs": [],
   "source": [
    "with open(\"greet.txt\" , \"w\") as f:\n",
    "    f.write(\"Hi, how are you\")"
   ]
  },
  {
   "cell_type": "markdown",
   "metadata": {},
   "source": [
    "# Data files: Retrieving data"
   ]
  },
  {
   "cell_type": "code",
   "execution_count": 4,
   "metadata": {},
   "outputs": [
    {
     "name": "stdout",
     "output_type": "stream",
     "text": [
      "Hi, how are you\n"
     ]
    }
   ],
   "source": [
    "with open(\"greet.txt\" , \"r\") as data:\n",
    "    content = data.read()\n",
    "print(content)"
   ]
  },
  {
   "cell_type": "markdown",
   "metadata": {},
   "source": [
    "# Data files: Appending data"
   ]
  },
  {
   "cell_type": "code",
   "execution_count": 5,
   "metadata": {},
   "outputs": [
    {
     "name": "stdout",
     "output_type": "stream",
     "text": [
      "Hi, how are you\n",
      "Hi, whats going on\n"
     ]
    }
   ],
   "source": [
    "with open(\"greet.txt\" , \"a\") as Append:\n",
    "    Append.write(\"\\nHi, whats going on\")\n",
    "\n",
    "with open(\"greet.txt\" , \"r\") as data:\n",
    "    content = data.read()\n",
    "print(content)"
   ]
  },
  {
   "cell_type": "markdown",
   "metadata": {},
   "source": [
    "# Practice Problems"
   ]
  },
  {
   "cell_type": "code",
   "execution_count": 28,
   "metadata": {},
   "outputs": [
    {
     "name": "stdout",
     "output_type": "stream",
     "text": [
      "Hi, how are you\n"
     ]
    }
   ],
   "source": [
    " #Write a Python program to read first n lines of a file.\n",
    "def ReadFile(fileName, numberOfLines):\n",
    "    with open(fileName) as data:\n",
    "        for i in range(numberOfLines):\n",
    "            print(data.readline(), end= \"\")\n",
    "\n",
    "ReadFile(\"greet.txt\", 1)"
   ]
  },
  {
   "cell_type": "code",
   "execution_count": 33,
   "metadata": {},
   "outputs": [
    {
     "name": "stdout",
     "output_type": "stream",
     "text": [
      "2\n"
     ]
    }
   ],
   "source": [
    " #Write a Python program to count the number of lines in a text file.\n",
    "with open(\"greet.txt\") as data:\n",
    "        count  = 0\n",
    "        for x in data:\n",
    "            count +=1\n",
    "print(count)"
   ]
  },
  {
   "cell_type": "code",
   "execution_count": 34,
   "metadata": {},
   "outputs": [
    {
     "name": "stdout",
     "output_type": "stream",
     "text": [
      "Hi, how are you\n",
      "Hi, whats going on\n"
     ]
    }
   ],
   "source": [
    "#Write a Python program to copy the contents of a file to another file\n",
    "def ReadFile(firstFileName, secondFileName):\n",
    "    with open(firstFileName) as data:\n",
    "        with open(secondFileName, \"w\") as data2:\n",
    "            data2.write(data.read())\n",
    "    with open(secondFileName) as data:\n",
    "        content = data.read()\n",
    "        print(content) \n",
    "        \n",
    "ReadFile(\"greet.txt\", \"greet2.txt\")          "
   ]
  },
  {
   "cell_type": "code",
   "execution_count": 48,
   "metadata": {},
   "outputs": [
    {
     "name": "stdout",
     "output_type": "stream",
     "text": [
      "['Hi, how are you\\n', 'Hi, whats going on']\n"
     ]
    }
   ],
   "source": [
    " #Write a Python program to read a file line by line and store it into a list.\n",
    "lst = []\n",
    "with open(\"greet.txt\") as data:\n",
    "        lst = data.readlines()\n",
    "print(lst)"
   ]
  },
  {
   "cell_type": "code",
   "execution_count": 77,
   "metadata": {},
   "outputs": [
    {
     "name": "stdout",
     "output_type": "stream",
     "text": [
      "Hi, how are you\n",
      "Hi, how are you\n",
      "\n",
      "Hi, whats going onHi, whats going on\n"
     ]
    }
   ],
   "source": [
    "#Write a Python program to combine each line from first file with the corresponding line in second file\n",
    "def File(firstFileName, secondFileName):\n",
    "    with open(firstFileName) as data, open(secondFileName) as data2:\n",
    "        for line1,line2 in zip(data, data2):\n",
    "            print(line1+line2)\n",
    "File(\"greet.txt\", \"greet2.txt\")            "
   ]
  },
  {
   "cell_type": "code",
   "execution_count": null,
   "metadata": {},
   "outputs": [],
   "source": []
  }
 ],
 "metadata": {
  "kernelspec": {
   "display_name": "Python 3",
   "language": "python",
   "name": "python3"
  },
  "language_info": {
   "codemirror_mode": {
    "name": "ipython",
    "version": 3
   },
   "file_extension": ".py",
   "mimetype": "text/x-python",
   "name": "python",
   "nbconvert_exporter": "python",
   "pygments_lexer": "ipython3",
   "version": "3.8.3"
  }
 },
 "nbformat": 4,
 "nbformat_minor": 4
}
