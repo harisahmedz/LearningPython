{
 "cells": [
  {
   "cell_type": "code",
   "execution_count": null,
   "metadata": {},
   "outputs": [],
   "source": [
    "'''\n",
    " Lists\n",
    " Lists: Adding and changing elements\n",
    " Lists: Taking slices out of them\n",
    " Lists: Deleting and removing elements\n",
    " Lists: popping elements\n",
    " \n",
    "'''"
   ]
  },
  {
   "cell_type": "markdown",
   "metadata": {},
   "source": [
    "# Lists"
   ]
  },
  {
   "cell_type": "code",
   "execution_count": 36,
   "metadata": {},
   "outputs": [
    {
     "name": "stdout",
     "output_type": "stream",
     "text": [
      "['Karachi', 'Lahore', 'Larkana']\n",
      "Welcome to Karachi\n",
      "Welcome to Lahore\n",
      "Welcome to Larkana\n",
      "[1, 'drop', 'Karachi', 2]\n"
     ]
    }
   ],
   "source": [
    "cities = [\"Karachi\", \"Lahore\", \"Larkana\"]\n",
    "print(cities)\n",
    "print(\"Welcome to \" + cities[0])\n",
    "print(\"Welcome to \" + cities[1])\n",
    "print(\"Welcome to \" + cities[2])\n",
    "mixthings = [1, \"drop\", cities[0] , 2]\n",
    "print(mixthings)"
   ]
  },
  {
   "cell_type": "markdown",
   "metadata": {},
   "source": [
    "# Lists: Adding and changing elements\n",
    "\n"
   ]
  },
  {
   "cell_type": "code",
   "execution_count": 37,
   "metadata": {},
   "outputs": [
    {
     "name": "stdout",
     "output_type": "stream",
     "text": [
      "['Karachi', 'Lahore', 'Larkana', 'Hyderabad']\n",
      "['Karachi', 'Lahore', 'Larkana', 'Hyderabad', 'Gujrawala']\n",
      "['Karachi', 'Lahore', 'Larkana', 'Hyderabad', 'Gujrawala', 'quetta', 'multan']\n",
      "['Karachi', 'Lahore', 'Larkana', 'Hyderabad', 'Gujrawala', 'quetta', 'multan', 'Peshawar']\n",
      "['Islamabad', 'Karachi', 'Lahore', 'Larkana', 'Hyderabad', 'Gujrawala', 'quetta', 'multan', 'Peshawar']\n",
      "['Islamabad', 'Karachi', 'Lahore', 'Larkana', 'Gorak hill', 'Hyderabad', 'Gujrawala', 'quetta', 'multan', 'Peshawar']\n"
     ]
    }
   ],
   "source": [
    "cities.append(\"Hyderabad\")\n",
    "print(cities)\n",
    "cities.append(\"Gujrawala\")\n",
    "print(cities)\n",
    "cities = cities + [\"quetta\", \"multan\"]\n",
    "print(cities)\n",
    "cities = cities + [\"Peshawar\"]\n",
    "print(cities)\n",
    "cities.insert(0, \"Islamabad\")\n",
    "print(cities)\n",
    "cities.insert(4, \"Gorak hill\")\n",
    "print(cities)"
   ]
  },
  {
   "cell_type": "markdown",
   "metadata": {},
   "source": [
    "#  Lists: Taking slices out of them\n"
   ]
  },
  {
   "cell_type": "code",
   "execution_count": 38,
   "metadata": {},
   "outputs": [
    {
     "name": "stdout",
     "output_type": "stream",
     "text": [
      "[3, 4]\n",
      "['Islamabad', 'Karachi', 'Lahore']\n",
      "['Islamabad', 'Karachi', 'Lahore']\n",
      "['quetta', 'multan', 'Peshawar']\n",
      "['quetta', 'multan', 'Peshawar']\n"
     ]
    }
   ],
   "source": [
    "num = [1, 2, 3, 4, 5, 6, 7]\n",
    "num = num[2:4]\n",
    "print(num)\n",
    "x= cities[0:3]\n",
    "print(x)\n",
    "x = cities[:3]\n",
    "print(x)\n",
    "y = cities[7:10]\n",
    "print(y)\n",
    "y = cities [7:]\n",
    "print(y)"
   ]
  },
  {
   "cell_type": "markdown",
   "metadata": {},
   "source": [
    "# Lists: Deleting and removing elements\n"
   ]
  },
  {
   "cell_type": "code",
   "execution_count": 39,
   "metadata": {},
   "outputs": [
    {
     "name": "stdout",
     "output_type": "stream",
     "text": [
      "['sink', 'table', 'chair', 'Watch']\n",
      "['table', 'chair', 'Watch']\n",
      "['table', 'chair']\n",
      "['table']\n"
     ]
    }
   ],
   "source": [
    "products = [\"sink\", \"table\", \"chair\", \"spoon\", \"Watch\"]\n",
    "del products[3]\n",
    "print(products)\n",
    "\n",
    "products. remove(\"sink\")\n",
    "print(products)\n",
    "\n",
    "del products[2]\n",
    "print(products)\n",
    "\n",
    "products.remove(\"chair\")\n",
    "print(products)"
   ]
  },
  {
   "cell_type": "markdown",
   "metadata": {},
   "source": [
    "# Lists: popping elements"
   ]
  },
  {
   "cell_type": "code",
   "execution_count": 51,
   "metadata": {},
   "outputs": [
    {
     "name": "stdout",
     "output_type": "stream",
     "text": [
      "['watch a video of c# webased application', 'watch a movie', 'call a friend', 'Start Freelancing']\n",
      "['learn python Lists']\n",
      "['watch a video of c# webased application', 'watch a movie', 'Start Freelancing']\n",
      "['call a friend', 'learn python Lists']\n",
      "watch a video of c# webased application\n",
      "['call a friend', 'learn python Lists', 'watch a video of c# webased application']\n",
      "['Start Freelancing', 'call a friend', 'learn python Lists', 'watch a video of c# webased application']\n"
     ]
    }
   ],
   "source": [
    "tasks = [\"learn python Lists\", \"watch a video of c# webased application\", \"watch a movie\", \"call a friend\", \"Start Freelancing\"]\n",
    "accomplished_task = []\n",
    "accomplished_task.append(tasks.pop(0))\n",
    "print(tasks)\n",
    "print(accomplished_task)\n",
    "\n",
    "accomplished_task.insert(0,tasks.pop(2))\n",
    "print(tasks)\n",
    "print(accomplished_task)\n",
    "\n",
    "x = tasks.pop(0)\n",
    "print(x)\n",
    "accomplished_task.insert(2,x)\n",
    "print(accomplished_task)\n",
    "\n",
    "accomplished_task.insert(0,tasks.pop())\n",
    "print(accomplished_task)\n"
   ]
  },
  {
   "cell_type": "code",
   "execution_count": null,
   "metadata": {},
   "outputs": [],
   "source": []
  }
 ],
 "metadata": {
  "kernelspec": {
   "display_name": "Python 3",
   "language": "python",
   "name": "python3"
  },
  "language_info": {
   "codemirror_mode": {
    "name": "ipython",
    "version": 3
   },
   "file_extension": ".py",
   "mimetype": "text/x-python",
   "name": "python",
   "nbconvert_exporter": "python",
   "pygments_lexer": "ipython3",
   "version": "3.7.4"
  }
 },
 "nbformat": 4,
 "nbformat_minor": 2
}
