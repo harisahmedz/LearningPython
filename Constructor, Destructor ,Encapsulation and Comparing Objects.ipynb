{
 "cells": [
  {
   "cell_type": "code",
   "execution_count": 1,
   "metadata": {},
   "outputs": [],
   "source": [
    "class Employee:\n",
    "    def __init__(self, Name, Sales):# constructor\n",
    "        self.Name = Name\n",
    "        self.Sales = Sales\n",
    "    \n",
    "    def Change(self, Sales):\n",
    "        self.Sales = Sales\n",
    "                \n",
    "    def Compare(self, Other):\n",
    "        if self.Sales == Other.Sales:#comparing objects\n",
    "            print(\"-->They are Same\")\n",
    "        else:\n",
    "            print(\"-->They are different\")\n",
    "    def __del__(self): # destructor\n",
    "        print(\"Destructor\")"
   ]
  },
  {
   "cell_type": "code",
   "execution_count": 2,
   "metadata": {},
   "outputs": [
    {
     "name": "stdout",
     "output_type": "stream",
     "text": [
      "Calling Create_obj() function...\n",
      "Making Object...\n",
      "Comparing Object...\n",
      "-->They are Same\n",
      "Comparing Object after changing the values of the other...\n",
      "-->They are different\n",
      "Destructor\n",
      "Destructor\n",
      "Program End...\n"
     ]
    }
   ],
   "source": [
    "def Create_obj(): \n",
    "    print('Making Object...') \n",
    "    e1 = Employee(\"Haris\", 30)\n",
    "    e2 = Employee(\"Farhan\", 30)\n",
    "    print('Comparing Object...') \n",
    "    e1.Compare(e2)\n",
    "    e1.Change(20)\n",
    "    print('Comparing Object after changing the values of the other...') \n",
    "    e1.Compare(e2)\n",
    "    return e1, e2 \n",
    "print('Calling Create_obj() function...') \n",
    "Create_obj() \n",
    "print('Program End...') "
   ]
  },
  {
   "cell_type": "markdown",
   "metadata": {},
   "source": [
    "# Encapsulation"
   ]
  },
  {
   "cell_type": "code",
   "execution_count": 3,
   "metadata": {},
   "outputs": [
    {
     "name": "stdout",
     "output_type": "stream",
     "text": [
      "Calling protected member of base class: \n",
      "--Haris Ahmed --\n"
     ]
    }
   ],
   "source": [
    "class Base:\n",
    "    def __init__(self):\n",
    "        self.__Name = \"Haris Ahmed\"#Private member\n",
    "        self._Name = \"--Haris Ahmed --\"#Protected member\n",
    "    def __del__(self):\n",
    "        pass\n",
    "        \n",
    "class Derived(Base):\n",
    "    def __init__(self):\n",
    "        Base.__init__(self)\n",
    "        print(\"Calling protected member of base class: \")\n",
    "        print(self._Name)\n",
    "       # print(self.__Name) ------>Private member # raise an AttributeError\n",
    "        \n",
    "obj1 = Derived()       "
   ]
  },
  {
   "cell_type": "code",
   "execution_count": null,
   "metadata": {},
   "outputs": [],
   "source": []
  }
 ],
 "metadata": {
  "kernelspec": {
   "display_name": "Python 3",
   "language": "python",
   "name": "python3"
  },
  "language_info": {
   "codemirror_mode": {
    "name": "ipython",
    "version": 3
   },
   "file_extension": ".py",
   "mimetype": "text/x-python",
   "name": "python",
   "nbconvert_exporter": "python",
   "pygments_lexer": "ipython3",
   "version": "3.8.3"
  }
 },
 "nbformat": 4,
 "nbformat_minor": 4
}
