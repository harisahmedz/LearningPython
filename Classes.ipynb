{
 "cells": [
  {
   "cell_type": "code",
   "execution_count": 1,
   "metadata": {},
   "outputs": [],
   "source": [
    "#Classes\n",
    "#Classes: Starting to build the structure\n",
    "#Classes: A bit of housekeeping\n",
    "#Classes: Creating an instance\n",
    "#Classes: Getting info out of instances\n",
    "#Classes: Coding a method\n",
    "#Classes: Changing an attribute's value"
   ]
  },
  {
   "cell_type": "markdown",
   "metadata": {},
   "source": [
    "# Classes"
   ]
  },
  {
   "cell_type": "code",
   "execution_count": 2,
   "metadata": {},
   "outputs": [
    {
     "name": "stdout",
     "output_type": "stream",
     "text": [
      "Patient is Minor\n",
      "Patient name is: Haris\n",
      "Patient name is: Haris Ahmed\n"
     ]
    }
   ],
   "source": [
    "class Patient:\n",
    "    def __init__(self, name, age):#Classes: Starting to build the structure\n",
    "        self.name = name#Classes: A bit of housekeeping\n",
    "        self.age = age\n",
    "    def If_Minor(self):\n",
    "        if self.age < 21:#Classes: Coding a method\n",
    "            print(\"Patient is Minor\")\n",
    "        \n",
    "\n",
    "P_No_23 = Patient(\"Haris\", 19)#Classes: Creating an instance\n",
    "P_No_23.If_Minor()\n",
    "print(\"Patient name is:\",P_No_23.name)#Classes: Getting info out of instances\n",
    "P_No_23.name = \"Haris Ahmed\"  #Classes: Changing an attribute's value\n",
    "print(\"Patient name is:\",P_No_23.name)"
   ]
  },
  {
   "cell_type": "markdown",
   "metadata": {},
   "source": [
    "# Practice Questions"
   ]
  },
  {
   "cell_type": "code",
   "execution_count": 3,
   "metadata": {},
   "outputs": [
    {
     "name": "stdout",
     "output_type": "stream",
     "text": [
      "2 power 4 is equal to: 16\n"
     ]
    }
   ],
   "source": [
    "#Write a Python class to implement pow(x, n)\n",
    "class POW:\n",
    "    def __init__(self, power, base):\n",
    "        self.power = power\n",
    "        self.base = base\n",
    "        print(power **  base) #same as 2*2*2*2\n",
    "\n",
    "print(\"2 power 4 is equal to:\",end =\" \")\n",
    "pow = POW(2,4)"
   ]
  },
  {
   "cell_type": "code",
   "execution_count": 4,
   "metadata": {},
   "outputs": [
    {
     "name": "stdout",
     "output_type": "stream",
     "text": [
      "'Hello World' reverses to : World Hello "
     ]
    }
   ],
   "source": [
    "#Write a Python class to reverse a string word by word.\n",
    "\n",
    "class ReverseSentence:\n",
    "    def __init__(self, String):\n",
    "        self.String =  String\n",
    "        space = \" \"\n",
    "        x = len(self.String)\n",
    "        i = len(self.String)-1\n",
    "        flag = True\n",
    "        while i >= 0:\n",
    "            if i == 0:\n",
    "                print(self.String[i:x], end =\" \")\n",
    "                i -=1\n",
    "            elif self.String[i] != space:\n",
    "                i = i - 1\n",
    "            else: \n",
    "                print(self.String[i+1:x], end =\" \")\n",
    "                x = i\n",
    "                i -=1\n",
    "String = \"Hello World\"\n",
    "print(f\"'{String}' reverses to :\",end=\" \")\n",
    "reverseSentence = ReverseSentence(String)"
   ]
  },
  {
   "cell_type": "code",
   "execution_count": 5,
   "metadata": {},
   "outputs": [
    {
     "name": "stdout",
     "output_type": "stream",
     "text": [
      "Enter a Word: pakistan\n",
      "PAKISTAN\n"
     ]
    }
   ],
   "source": [
    "#Write a Python class which has two methods get_String and print_String. \n",
    "#get_String accept a string from the user and print_String print the string in upper case.\n",
    "\n",
    "class Python:\n",
    "    def __init__(self):\n",
    "        self.String = \"\"\n",
    "    def Get_String(self):\n",
    "        self.String = input(\"Enter a Word: \")\n",
    "        return self.String\n",
    "    def Print_String(self):\n",
    "        print(self.String.upper())\n",
    "    \n",
    "python = Python()\n",
    "python.Get_String()\n",
    "python.Print_String()"
   ]
  },
  {
   "cell_type": "code",
   "execution_count": 6,
   "metadata": {},
   "outputs": [
    {
     "name": "stdout",
     "output_type": "stream",
     "text": [
      "Area of Rectangle is:  12\n"
     ]
    }
   ],
   "source": [
    "#Write a Python class named Rectangle constructed by a length and width and a\n",
    "#method which will compute the area of a rectangle.\n",
    "\n",
    "class Rectangle:\n",
    "    def __init__(self, length, width):\n",
    "        self.length = length\n",
    "        self.width = width\n",
    "    def Area(self):\n",
    "        return self.length * self.width \n",
    "\n",
    "rectangle = Rectangle(3, 4)\n",
    "print(\"Area of Rectangle is: \",rectangle.Area())"
   ]
  },
  {
   "cell_type": "code",
   "execution_count": 7,
   "metadata": {},
   "outputs": [
    {
     "name": "stdout",
     "output_type": "stream",
     "text": [
      "Area of Circle is:  314.2\n",
      "Area of Rectangle is:  628.4\n"
     ]
    }
   ],
   "source": [
    "#Write a Python class named Circle constructed by a radius and two methods \n",
    "#which will compute the area and the perimeter of a circle\n",
    "\n",
    "class Circle:\n",
    "    def __init__(self, radius):\n",
    "        self.radius = radius       \n",
    "    def Area(self):\n",
    "        return (3.142 * (self.radius*self.radius))\n",
    "    def Perimeter(self):\n",
    "        return ( 2 * (3.142 * (self.radius*self.radius)))\n",
    "\n",
    "circle = Circle(10)\n",
    "print(\"Area of Circle is: \",circle.Area())\n",
    "print(\"Area of Rectangle is: \",circle.Perimeter())"
   ]
  }
 ],
 "metadata": {
  "kernelspec": {
   "display_name": "Python 3",
   "language": "python",
   "name": "python3"
  },
  "language_info": {
   "codemirror_mode": {
    "name": "ipython",
    "version": 3
   },
   "file_extension": ".py",
   "mimetype": "text/x-python",
   "name": "python",
   "nbconvert_exporter": "python",
   "pygments_lexer": "ipython3",
   "version": "3.8.3"
  }
 },
 "nbformat": 4,
 "nbformat_minor": 4
}
