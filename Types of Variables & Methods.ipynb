{
 "cells": [
  {
   "cell_type": "markdown",
   "metadata": {},
   "source": [
    "# Types of Variables"
   ]
  },
  {
   "cell_type": "code",
   "execution_count": 1,
   "metadata": {},
   "outputs": [
    {
     "name": "stdout",
     "output_type": "stream",
     "text": [
      "Mileage 10\n",
      "Comapny BMW\n",
      "-----------------X---------------\n",
      "Mileage 15\n",
      "Comapny BMW\n",
      "-----------------X---------------\n",
      "--->after changing the Mileage of Object 1\n",
      "Mileage 12\n",
      "Comapny BMW\n",
      "-----------------X---------------\n",
      "Mileage 15\n",
      "Comapny BMW\n",
      "-----------------X---------------\n",
      "Object 1 Wheels 4\n",
      "Object 2 Wheels 4\n",
      "--->after changing the wheels\n",
      "Object 1 Wheels 5\n",
      "Object 2 Wheels 5\n"
     ]
    }
   ],
   "source": [
    "class Car:\n",
    "    Wheels = 4 #static variable\n",
    "    def __init__(self, Mil, Com):\n",
    "        self.Mil = Mil #instance variable\n",
    "        self.Com = Com\n",
    "    def Show(self):\n",
    "        print(\"Mileage {}\".format(self.Mil))\n",
    "        print(\"Comapny {}\".format(self.Com))\n",
    "        print(\"-----------------X---------------\")\n",
    "    \n",
    "c1 = Car(10,\"BMW\")\n",
    "c2 = Car(15,\"BMW\")\n",
    "c1.Show()\n",
    "c2.Show()\n",
    "print(\"--->after changing the Mileage of Object 1\")\n",
    "c1.Mil = 12 #instances namespace\n",
    "c1.Show()\n",
    "c2.Show()\n",
    "print(\"Object 1 Wheels\",c1.Wheels)\n",
    "print(\"Object 2 Wheels\",c2.Wheels)\n",
    "Car.Wheels=5 #class namespace\n",
    "print(\"--->after changing the wheels\")\n",
    "print(\"Object 1 Wheels\",c1.Wheels)\n",
    "print(\"Object 2 Wheels\",c2.Wheels)\n"
   ]
  },
  {
   "cell_type": "markdown",
   "metadata": {},
   "source": [
    "# Types of Methods"
   ]
  },
  {
   "cell_type": "markdown",
   "metadata": {},
   "source": [
    "# Instance Method"
   ]
  },
  {
   "cell_type": "code",
   "execution_count": 2,
   "metadata": {},
   "outputs": [
    {
     "name": "stdout",
     "output_type": "stream",
     "text": [
      "Avg 64.0\n",
      "----> After changing the value\n",
      "Marks 1: 86\n",
      "Avg 72.66666666666667\n"
     ]
    }
   ],
   "source": [
    "class Student:\n",
    "    school = \"PAF-KIET\"    \n",
    "    def __init__(self, Marks1, Marks2, Marks3):\n",
    "        self.Marks1 = Marks1\n",
    "        self.Marks2 = Marks2\n",
    "        self.Marks3 = Marks3   \n",
    "    def Avg(self):\n",
    "        return (self.Marks1 + self.Marks2 + self.Marks3)/3\n",
    "    def get_Marks1(self):#Accesor\n",
    "        return self.Marks1\n",
    "    def Set_Marks1(self, value):# Mutators\n",
    "        self.Marks1 = value\n",
    "    \n",
    "s1 = Student(60,65,67)\n",
    "print(\"Avg\",s1.Avg())\n",
    "s1.Set_Marks1(86)\n",
    "print(\"----> After changing the value\")\n",
    "print(\"Marks 1:\",s1.get_Marks1())\n",
    "print(\"Avg\",s1.Avg())"
   ]
  },
  {
   "cell_type": "markdown",
   "metadata": {},
   "source": [
    "# Class Method"
   ]
  },
  {
   "cell_type": "code",
   "execution_count": 3,
   "metadata": {},
   "outputs": [
    {
     "name": "stdout",
     "output_type": "stream",
     "text": [
      "Avg 64.0\n",
      "Class Method---> PAF-KIET\n"
     ]
    }
   ],
   "source": [
    "class Student:\n",
    "    school = \"PAF-KIET\"    \n",
    "    def __init__(self, Marks1, Marks2, Marks3):\n",
    "        self.Marks1 = Marks1\n",
    "        self.Marks2 = Marks2\n",
    "        self.Marks3 = Marks3       \n",
    "    def Avg(self):\n",
    "        return (self.Marks1 + self.Marks2 + self.Marks3)/3\n",
    "    @classmethod\n",
    "    def Info(cls):\n",
    "        return cls.school\n",
    "    \n",
    "s1 = Student(60,65,67)\n",
    "print(\"Avg\",s1.Avg())\n",
    "print(\"Class Method--->\",Student.Info())"
   ]
  },
  {
   "cell_type": "markdown",
   "metadata": {},
   "source": [
    "# Static Method"
   ]
  },
  {
   "cell_type": "code",
   "execution_count": 4,
   "metadata": {},
   "outputs": [
    {
     "name": "stdout",
     "output_type": "stream",
     "text": [
      "This is student class.... in abc module\n"
     ]
    }
   ],
   "source": [
    "class Student:\n",
    "    school = \"PAF-KIET\"\n",
    "    \n",
    "    def __init__(self, Marks1, Marks2, Marks3):\n",
    "        self.Marks1 = Marks1\n",
    "        self.Marks2 = Marks2\n",
    "        self.Marks3 = Marks3        \n",
    "    def Avg(self):\n",
    "        return (self.Marks1 + self.Marks2 + self.Marks3)/3\n",
    "    @staticmethod\n",
    "    def Info():\n",
    "        return \"This is student class.... in abc module\"\n",
    "        \n",
    "s1 = Student(60,65,67)\n",
    "s2 = Student(68,80,60)\n",
    "print(Student.Info())"
   ]
  },
  {
   "cell_type": "markdown",
   "metadata": {},
   "source": [
    "# Practice Problems"
   ]
  },
  {
   "cell_type": "code",
   "execution_count": 5,
   "metadata": {},
   "outputs": [
    {
     "name": "stdout",
     "output_type": "stream",
     "text": [
      "Name: Haris Ahmed \n",
      "ID: 11180 \n",
      "Basic Pay: 20000 \n",
      "Medical: 2000 \n",
      "Bonus: 3000\n",
      "Total Salary: 25000\n"
     ]
    }
   ],
   "source": [
    "#Construct a class Employee with following data members and methods.\n",
    "#Static String company initialized with company name \n",
    "#Instance data members for name, id, basicpay, medical, bonus \n",
    "#Write constructors and get/set method. \n",
    "#Write a method int calSal()that returns basicpay + medical +bonus to the method printsal().\n",
    "#Write a method void printSal()that print basicpay + medical +bonus which is calculated from calSal(). \n",
    "\n",
    "class Employee:\n",
    "    CompanyName = \"XYZ Company\"\n",
    "    def __init__(self):\n",
    "        self.name = \"No Name\"\n",
    "        self.id = 0\n",
    "        self.basicPay = 0\n",
    "        self.medical = 0\n",
    "        self.bonus = 0\n",
    "        \n",
    "    def Set_Name(self, name):\n",
    "        self.name = name  \n",
    "    def Get_Name(self):\n",
    "        return self.name\n",
    "    \n",
    "    def Set_Id(self, Id):\n",
    "        self.id = Id \n",
    "    def Get_Id(self):\n",
    "        return self.id\n",
    "\n",
    "    def Set_BasicPay(self, basicPay):\n",
    "        self.basicPay = basicPay\n",
    "    def Get_BasicPay(self):\n",
    "        return self.basicPay\n",
    "\n",
    "    def Set_Medical(self, medical):\n",
    "        self.medical = medical\n",
    "    def Get_Medical(self):\n",
    "        return self.medical\n",
    "    \n",
    "    def Set_Bonus(self, bonus):\n",
    "        self.bonus = bonus \n",
    "    def Get_Bonus(self):\n",
    "        return self.bonus\n",
    "    \n",
    "    def CalSal(self):\n",
    "        return self.Get_BasicPay() + self.Get_Medical() + self.Get_Bonus()\n",
    "    def PrintSal(self):\n",
    "        print(\"Total Salary:\",self.CalSal())\n",
    "        \n",
    "    def Display(self):\n",
    "        print(f\"Name: {self.Get_Name()} \\nID: {self.Get_Id()} \\nBasic Pay: {self.Get_BasicPay()} \\nMedical: {self.Get_Medical()} \\nBonus: {self.Get_Bonus()}\")\n",
    "        \n",
    "employeeObj = Employee()\n",
    "employeeObj.Set_Name(\"Haris Ahmed\")\n",
    "employeeObj.Set_Id(\"11180\")\n",
    "employeeObj.Set_BasicPay(20000)\n",
    "employeeObj.Set_Medical(2000)\n",
    "employeeObj.Set_Bonus(3000)\n",
    "employeeObj.Display()\n",
    "employeeObj.PrintSal()\n"
   ]
  },
  {
   "cell_type": "code",
   "execution_count": 6,
   "metadata": {},
   "outputs": [
    {
     "name": "stdout",
     "output_type": "stream",
     "text": [
      "Account is Allowed\n"
     ]
    }
   ],
   "source": [
    "class Account:\n",
    "    @staticmethod\n",
    "    def AccountAllowed(income, age):\n",
    "        if age >= 18 and income > 20000:\n",
    "            return True\n",
    "        else:\n",
    "            return False\n",
    "\n",
    "if Account.AccountAllowed(25000, 19):\n",
    "    print(\"Account is Allowed\")\n",
    "else:\n",
    "    print(\"Account can't be Open\")"
   ]
  },
  {
   "cell_type": "code",
   "execution_count": 7,
   "metadata": {},
   "outputs": [
    {
     "name": "stdout",
     "output_type": "stream",
     "text": [
      "Add:  91\n",
      "Sub:  49\n",
      "Mul:  60\n",
      "Div:  2.0\n"
     ]
    }
   ],
   "source": [
    "class Math:\n",
    "    @classmethod\n",
    "    def Add(cls, a, *b):\n",
    "        for val in b:\n",
    "            a += val\n",
    "        return a\n",
    "    @classmethod\n",
    "    def Sub(cls, a, *b):\n",
    "        for val in b:\n",
    "            a = a - val\n",
    "        return a\n",
    "    @classmethod\n",
    "    def Mul(cls, a, *b):\n",
    "        for val in b:\n",
    "            a *= val\n",
    "        return a \n",
    "    @classmethod\n",
    "    def Div(cls, a, *b):\n",
    "        for val in b:\n",
    "            a = a / val\n",
    "        return a\n",
    "    \n",
    "print(\"Add: \",Math.Add(25,23,43))\n",
    "print(\"Sub: \",Math.Sub(105,23,33))\n",
    "print(\"Mul: \",Math.Mul(2,5,6))\n",
    "print(\"Div: \",Math.Div(100,5,10))"
   ]
  },
  {
   "cell_type": "code",
   "execution_count": null,
   "metadata": {},
   "outputs": [],
   "source": []
  }
 ],
 "metadata": {
  "kernelspec": {
   "display_name": "Python 3",
   "language": "python",
   "name": "python3"
  },
  "language_info": {
   "codemirror_mode": {
    "name": "ipython",
    "version": 3
   },
   "file_extension": ".py",
   "mimetype": "text/x-python",
   "name": "python",
   "nbconvert_exporter": "python",
   "pygments_lexer": "ipython3",
   "version": "3.8.3"
  }
 },
 "nbformat": 4,
 "nbformat_minor": 4
}
