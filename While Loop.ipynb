{
 "cells": [
  {
   "cell_type": "code",
   "execution_count": 1,
   "metadata": {},
   "outputs": [
    {
     "name": "stdout",
     "output_type": "stream",
     "text": [
      "['Farina', 'Madi', 'Annie', 'Max', 'Vlad', 'Punya', 'Muhammad']\n"
     ]
    }
   ],
   "source": [
    "list_of_names = [\"Farina\", \"Madi\", \"Annie\", \"Max\", \"Vlad\", \"Punya\", \"Muhammad\"]\n",
    "second_list_of_names = []\n",
    "counter = 0\n",
    "while counter < len(list_of_names):\n",
    "    second_list_of_names.append(list_of_names[counter])\n",
    "    counter += 1\n",
    "print(second_list_of_names)"
   ]
  },
  {
   "cell_type": "code",
   "execution_count": 2,
   "metadata": {},
   "outputs": [
    {
     "name": "stdout",
     "output_type": "stream",
     "text": [
      "Enter a Name, or q to quit:Farina\n",
      "Its in the list\n",
      "Enter a Name, or q to quit:q\n"
     ]
    }
   ],
   "source": [
    "keep_looping = True\n",
    "while keep_looping == True:\n",
    "    user_input = input(\"Enter a Name, or q to quit:\")\n",
    "    if user_input != \"q\":\n",
    "        for name in list_of_names:\n",
    "            if user_input == name:\n",
    "                print(\"Its in the list\")\n",
    "            break\n",
    "    else:\n",
    "        keep_looping = False"
   ]
  },
  {
   "cell_type": "markdown",
   "metadata": {},
   "source": [
    "# Practice Questions"
   ]
  },
  {
   "cell_type": "code",
   "execution_count": 5,
   "metadata": {},
   "outputs": [
    {
     "name": "stdout",
     "output_type": "stream",
     "text": [
      "Enter Number: 2\n",
      "Enter Number: 3\n",
      "Enter Number: 4\n",
      "Enter Number: 5\n",
      "Enter Number: 6\n",
      "Enter Number: 7\n",
      "Enter Number: 8\n",
      "Enter Number: 8\n",
      "Enter Number: 4\n",
      "Enter Number: 3\n",
      "Average of Numbers 5.0\n"
     ]
    }
   ],
   "source": [
    "#Take 10 integers from keyboard using loop and print their average value on the screen.\n",
    "i = 10\n",
    "summ = 0\n",
    "while i > 0:\n",
    "    value = int(input(\"Enter Number: \"))\n",
    "    summ += value\n",
    "    i -= 1\n",
    "avg = summ/ 10\n",
    "print(\"Average of Numbers\",avg)\n"
   ]
  },
  {
   "cell_type": "code",
   "execution_count": 2,
   "metadata": {},
   "outputs": [
    {
     "name": "stdout",
     "output_type": "stream",
     "text": [
      "*\n",
      "**\n",
      "***\n",
      "****\n",
      "*****\n",
      "--------------------------------------\n",
      "  *  \n",
      " *** \n",
      "*****\n",
      " *** \n",
      "  *  \n",
      "--------------------------------------\n",
      "1010101\n",
      " 10101 \n",
      "  101  \n",
      "   1   \n"
     ]
    }
   ],
   "source": [
    "'''Print the following patterns using loop :\n",
    "a.\n",
    "*\n",
    "**\n",
    "***\n",
    "****\n",
    "b.\n",
    "*  \n",
    "*** \n",
    "*****\n",
    "*** \n",
    "*  \n",
    "c.\n",
    "1010101\n",
    " 10101 \n",
    "  101  \n",
    "   1   '''\n",
    "#a\n",
    "i = 1\n",
    "while i <= 5:\n",
    "    print(\"*\"*i)\n",
    "    i = i +1\n",
    "    \n",
    "print(\"--------------------------------------\")\n",
    "#b\n",
    "i = 1\n",
    "j = 2\n",
    "while i > 0:\n",
    "    print(\" \"*j+\"*\"*i+\" \"*j)\n",
    "    i = i + 2\n",
    "    j = j - 1\n",
    "    if i > 5:\n",
    "        break\n",
    "i = 3\n",
    "j = 1\n",
    "while i >= 0:\n",
    "    print(\" \"*j+\"*\"*i+\" \"*j)\n",
    "    i = i - 2\n",
    "    j = j + 1\n",
    "\n",
    "#c\n",
    "print(\"--------------------------------------\")\n",
    "i = 7\n",
    "j = 0\n",
    "x = \"1010101\"\n",
    "while i > 0 :\n",
    "    print(\" \"*j + x[0:i] + \" \"*j )\n",
    "    i -=2\n",
    "    j +=1\n"
   ]
  },
  {
   "cell_type": "code",
   "execution_count": 14,
   "metadata": {},
   "outputs": [
    {
     "name": "stdout",
     "output_type": "stream",
     "text": [
      "Enter Number: 5\n",
      "Factorial is:  120\n"
     ]
    }
   ],
   "source": [
    "#Factorial of any number n is represented by n! and is equal to 1*2*3*....*(n-1)*n. E.g.-\n",
    "#4! = 1*2*3*4 = 24\n",
    "#3! = 3*2*1 = 6\n",
    "#2! = 2*1 = 2\n",
    "#Also,\n",
    "#1! = 1\n",
    "#0! = 1\n",
    "#Write a program to calculate factorial of a number.\n",
    "\n",
    "fact = 1\n",
    "num = int(input(\"Enter Number: \"))\n",
    "while num > 0:\n",
    "    fact = (fact * num)\n",
    "    num -=1\n",
    "    \n",
    "print(\"Factorial is: \",fact)"
   ]
  },
  {
   "cell_type": "code",
   "execution_count": 23,
   "metadata": {},
   "outputs": [
    {
     "name": "stdout",
     "output_type": "stream",
     "text": [
      "Enter Numer or Enter Q to quit: 1\n",
      "Enter Numer or Enter Q to quit: 2\n",
      "Enter Numer or Enter Q to quit: 3\n",
      "Enter Numer or Enter Q to quit: 4\n",
      "Enter Numer or Enter Q to quit: 5\n",
      "Enter Numer or Enter Q to quit: q\n",
      "-----------End-----------\n",
      "Average:  3.0\n",
      "Product:  120\n"
     ]
    }
   ],
   "source": [
    "#Take integer inputs from user until he/she presses q ( Ask to press q to quit after every integer input ).\n",
    "#Print average and product of all numbers.\n",
    "flag = True\n",
    "num = \"\"\n",
    "product = 1\n",
    "summ = 0\n",
    "count = 0\n",
    "while flag:\n",
    "    num = input(\"Enter Numer or Enter Q to quit: \")\n",
    "    if num != \"q\" :\n",
    "        summ += int(num)\n",
    "        product *= int(num)\n",
    "        count = count + 1\n",
    "    else:\n",
    "        print(\"-----------End-----------\")\n",
    "        flag = False\n",
    "print(\"Average: \", summ/count)\n",
    "print(\"Product: \", product)"
   ]
  },
  {
   "cell_type": "code",
   "execution_count": null,
   "metadata": {},
   "outputs": [],
   "source": []
  }
 ],
 "metadata": {
  "kernelspec": {
   "display_name": "Python 3",
   "language": "python",
   "name": "python3"
  },
  "language_info": {
   "codemirror_mode": {
    "name": "ipython",
    "version": 3
   },
   "file_extension": ".py",
   "mimetype": "text/x-python",
   "name": "python",
   "nbconvert_exporter": "python",
   "pygments_lexer": "ipython3",
   "version": "3.8.3"
  }
 },
 "nbformat": 4,
 "nbformat_minor": 4
}
