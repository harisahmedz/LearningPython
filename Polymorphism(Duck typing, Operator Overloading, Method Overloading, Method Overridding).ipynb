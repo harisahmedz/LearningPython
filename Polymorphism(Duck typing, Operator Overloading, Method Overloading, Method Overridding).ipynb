{
 "cells": [
  {
   "cell_type": "markdown",
   "metadata": {},
   "source": [
    "# DUCK TYPING"
   ]
  },
  {
   "cell_type": "code",
   "execution_count": 4,
   "metadata": {},
   "outputs": [
    {
     "name": "stdout",
     "output_type": "stream",
     "text": [
      "Spell Check\n",
      "Convention Check\n",
      "Compiling\n",
      "Running\n"
     ]
    }
   ],
   "source": [
    "class JupyterNotebook:\n",
    "    def execute(self):\n",
    "        print(\"Compiling\")\n",
    "        print(\"Running\")\n",
    "\n",
    "class MyEditor:\n",
    "    def execute(self):\n",
    "        print(\"Spell Check\")\n",
    "        print(\"Convention Check\")\n",
    "        print(\"Compiling\")\n",
    "        print(\"Running\")    \n",
    "    \n",
    "    \n",
    "class Laptop:\n",
    "    def Code(self, IDE):\n",
    "        IDE.execute()\n",
    "        \n",
    "    \n",
    "#IDE = JupyterNotebook()  \n",
    "IDE = MyEditor()\n",
    "Lap1 = Laptop()\n",
    "Lap1.Code(IDE)"
   ]
  },
  {
   "cell_type": "markdown",
   "metadata": {},
   "source": [
    "# Operator Overloading"
   ]
  },
  {
   "cell_type": "code",
   "execution_count": 7,
   "metadata": {},
   "outputs": [
    {
     "name": "stdout",
     "output_type": "stream",
     "text": [
      "S1+ S2 = 177 110\n",
      "S2 wins\n",
      "S1 => 93 45\n"
     ]
    }
   ],
   "source": [
    "class Student:\n",
    "    def __init__(self, m1, m2):\n",
    "        self.m1 = m1 \n",
    "        self.m2 = m2\n",
    "    def __add__(self,Other):\n",
    "        m1 = self.m1 + Other.m1\n",
    "        m2 = self.m2 + Other.m2\n",
    "        s3 = Student(m1, m2)\n",
    "        return s3\n",
    "    def __gt__(self, other):\n",
    "        s1 = self.m1 + self.m2\n",
    "        s2 = other.m1 + other.m2\n",
    "        if s1> s2:\n",
    "            return True\n",
    "        else:\n",
    "            return False\n",
    "    def __str__(self):\n",
    "        return \"{} {}\".format(self.m1, self.m2)\n",
    "        \n",
    "s1 = Student(93, 45)\n",
    "s2 = Student(84, 65)\n",
    "s3 = s1 + s2\n",
    "print(\"S1+ S2 =\", s3)\n",
    "if s1 > s2:\n",
    "    print(\"S1 wins\")\n",
    "else:\n",
    "    print(\"S2 wins\")\n",
    "print(\"S1 =>\",s1)"
   ]
  },
  {
   "cell_type": "markdown",
   "metadata": {},
   "source": [
    "# Method Overloading"
   ]
  },
  {
   "cell_type": "code",
   "execution_count": 9,
   "metadata": {},
   "outputs": [
    {
     "name": "stdout",
     "output_type": "stream",
     "text": [
      "Sum: 11\n"
     ]
    }
   ],
   "source": [
    "class Overloading:\n",
    "    def Sum(self, a=None, b=None, c=None):\n",
    "        if a != None and b !=None and c!=None:\n",
    "            return a + b + c\n",
    "        elif a != None and b !=None:\n",
    "            return a + b\n",
    "        else:\n",
    "            return a\n",
    "    \n",
    "s1 = Overloading()\n",
    "print(\"Sum:\", s1.Sum(5,6))"
   ]
  },
  {
   "cell_type": "markdown",
   "metadata": {},
   "source": [
    "# Method Overridding"
   ]
  },
  {
   "cell_type": "code",
   "execution_count": 10,
   "metadata": {},
   "outputs": [
    {
     "name": "stdout",
     "output_type": "stream",
     "text": [
      "In B Show\n"
     ]
    }
   ],
   "source": [
    "class A:\n",
    "    def Show(self):\n",
    "        print(\"In A show\")\n",
    "class B(A):\n",
    "    def Show(self):\n",
    "        print(\"In B Show\")\n",
    "\n",
    "a = B()\n",
    "a.Show()"
   ]
  },
  {
   "cell_type": "markdown",
   "metadata": {},
   "source": [
    "# Practice"
   ]
  },
  {
   "cell_type": "code",
   "execution_count": 6,
   "metadata": {},
   "outputs": [
    {
     "name": "stdout",
     "output_type": "stream",
     "text": [
      "Quadrilateral is drawn\n",
      "Rectangle is drawn\n",
      "Square is drawn\n"
     ]
    }
   ],
   "source": [
    "#Base class: Quadrilateral.\n",
    "#Derived classes: Rectangle, Square\n",
    "\n",
    "#Polymorhpic “Quadrilateral.DrawYourself” method\n",
    "#3 (“many”) forms of DrawYourself for 2 classes derived from Quadrilateral.\n",
    "\n",
    "class Quadrilateral:\n",
    "    def DrawYourself(self):\n",
    "        print(\"Quadrilateral is drawn\")\n",
    "    \n",
    "class Rectangle(Quadrilateral):\n",
    "    def DrawYourself(self):\n",
    "        print(\"Rectangle is drawn\")\n",
    "        \n",
    "class Square(Quadrilateral):\n",
    "    def DrawYourself(self):\n",
    "        print(\"Square is drawn\")  \n",
    "        \n",
    "quadrilateral = Quadrilateral()\n",
    "rectangle= Rectangle()\n",
    "square = Square()\n",
    "\n",
    "quadrilateral.DrawYourself()\n",
    "rectangle.DrawYourself()\n",
    "square.DrawYourself()"
   ]
  },
  {
   "cell_type": "code",
   "execution_count": 10,
   "metadata": {},
   "outputs": [
    {
     "name": "stdout",
     "output_type": "stream",
     "text": [
      "Add:  91\n",
      "Sub:  49\n",
      "Mul:  180\n",
      "Div:  2.0\n"
     ]
    }
   ],
   "source": [
    "class Math:\n",
    "    def Add(self, a, *b):\n",
    "        for val in b:\n",
    "            a += val\n",
    "        return a\n",
    "    \n",
    "    def Sub(self, a, *b):\n",
    "        for val in b:\n",
    "            a = a - val\n",
    "        return a\n",
    "\n",
    "    def Mul(self, a, *b):\n",
    "        for val in b:\n",
    "            a *= val\n",
    "        return a \n",
    "\n",
    "    def Div(self, a, *b):\n",
    "        for val in b:\n",
    "            a = a / val\n",
    "        return a\n",
    "    \n",
    "math = Math()\n",
    "print(\"Add: \",math.Add(25,23,43))\n",
    "print(\"Sub: \",math.Sub(105,23,33))\n",
    "print(\"Mul: \",math.Mul(2,5,6, 3))\n",
    "print(\"Div: \",math.Div(100,5,10))"
   ]
  },
  {
   "cell_type": "code",
   "execution_count": 3,
   "metadata": {},
   "outputs": [
    {
     "name": "stdout",
     "output_type": "stream",
     "text": [
      ">>>> Matrix 1\n",
      "[ 2 \t4 ]\n",
      "[ 5 \t6 ]\n",
      ">>>> Matrix 2\n",
      "[ 1 \t3 ]\n",
      "[ 7 \t8 ]\n",
      "After Addtion of Matrix 1 & Matrix 2:\n",
      "[ 3 \t7 ]\n",
      "[ 12 \t14 ]\n",
      "After Subtraction of Matrix 1 & Matrix 2:\n",
      "[ 1 \t1 ]\n",
      "[ -2 \t-2 ]\n",
      "After Multiplication of Matrix 1 & Matrix 2:\n",
      "[ 4 \t24 ]\n",
      "[ 70 \t96 ]\n",
      "After Division of Matrix 1 & Matrix 2:\n",
      "[ 2.0 \t1.3333333333333333 ]\n",
      "[ 0.7142857142857143 \t0.75 ]\n"
     ]
    }
   ],
   "source": [
    "#Create a user define data type called Matrix, this data type works only for 2x2 matrix, \n",
    "#Overload +, -, *, /\n",
    "\n",
    "# [i    j]\n",
    "# [k    l]\n",
    "class Matrix:\n",
    "    def __init__(self, matrix):\n",
    "        self.matrix = matrix\n",
    "        self.Length = len(self.matrix)\n",
    "        \n",
    "    def Show(self):\n",
    "        for i in range(self.Length):\n",
    "            print(\"[ \", end =\"\")\n",
    "            for j in range(self.Length):\n",
    "                print(self.matrix[i][j],end=\" \")\n",
    "                if ((j + 1 % 2) < 2):\n",
    "                    print(\"\\t\",end=\"\")\n",
    "            print(\"]\")\n",
    "    def __add__(self, Other):\n",
    "        mat =  [[0,0],[0,0]]\n",
    "        for i in range(self.Length):\n",
    "            for j in range(self.Length):\n",
    "                mat[i][j] = self.matrix[i][j] + Other.matrix[i][j]\n",
    "        NewMatrix = Matrix(mat)\n",
    "        return NewMatrix\n",
    "    def __sub__(self, Other):\n",
    "        mat =  [[0,0],[0,0]]\n",
    "        for i in range(self.Length):\n",
    "            for j in range(self.Length):\n",
    "                mat[i][j] = self.matrix[i][j] - Other.matrix[i][j]\n",
    "        NewMatrix = Matrix(mat)\n",
    "        return NewMatrix\n",
    "    \n",
    "    def __mul__(self, Other):\n",
    "        mat =  [[0,0],[0,0]]\n",
    "        for i in range(self.Length):\n",
    "            for j in range(len(Other.matrix[0])):\n",
    "                for k in range(len(Other.matrix)):                   \n",
    "                    mat[i][j] += self.matrix[i][j] * Other.matrix[i][j]\n",
    "        NewMatrix = Matrix(mat)\n",
    "        return NewMatrix\n",
    "    \n",
    "    def __floordiv__(self, Other):\n",
    "        mat =  [[0,0],[0,0]]\n",
    "        for i in range(self.Length):\n",
    "            for j in range(self.Length):\n",
    "                mat[i][j] = self.matrix[i][j] / Other.matrix[i][j]\n",
    "        NewMatrix = Matrix(mat)\n",
    "        return NewMatrix\n",
    "\n",
    "mat1 = [[2,4],[5,6]]       \n",
    "matrix1 = Matrix(mat1)\n",
    "print(\">>>> Matrix 1\")\n",
    "matrix1.Show()\n",
    "\n",
    "mat2 = [[1,3],[7,8]]       \n",
    "matrix2 = Matrix(mat2)\n",
    "print(\">>>> Matrix 2\")\n",
    "matrix2.Show()\n",
    "\n",
    "matrix3 = matrix1 + matrix2\n",
    "print(\"After Addtion of Matrix 1 & Matrix 2:\")\n",
    "matrix3.Show()\n",
    "\n",
    "matrix3 = matrix1 - matrix2\n",
    "print(\"After Subtraction of Matrix 1 & Matrix 2:\")\n",
    "matrix3.Show()\n",
    "\n",
    "matrix3 = matrix1 * matrix2\n",
    "print(\"After Multiplication of Matrix 1 & Matrix 2:\")\n",
    "matrix3.Show()\n",
    "\n",
    "matrix3 = matrix1 // matrix2\n",
    "print(\"After Division of Matrix 1 & Matrix 2:\")\n",
    "matrix3.Show()"
   ]
  },
  {
   "cell_type": "code",
   "execution_count": null,
   "metadata": {},
   "outputs": [],
   "source": []
  }
 ],
 "metadata": {
  "kernelspec": {
   "display_name": "Python 3",
   "language": "python",
   "name": "python3"
  },
  "language_info": {
   "codemirror_mode": {
    "name": "ipython",
    "version": 3
   },
   "file_extension": ".py",
   "mimetype": "text/x-python",
   "name": "python",
   "nbconvert_exporter": "python",
   "pygments_lexer": "ipython3",
   "version": "3.8.3"
  }
 },
 "nbformat": 4,
 "nbformat_minor": 4
}
