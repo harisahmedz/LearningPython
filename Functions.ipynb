{
 "cells": [
  {
   "cell_type": "code",
   "execution_count": 1,
   "metadata": {},
   "outputs": [],
   "source": [
    "# Functions\n",
    "# Functions: Passing them information\n",
    "# Functions: Passing information to them a different way\n",
    "# Functions: Assigning a default value to a parameter\n",
    "#: Functions: Mixing positional and keyword arguments\n",
    "# Functions: Dealing with an unknown number of arguments\n",
    "# Functions: Passing information back from them\n",
    "# Using functions as variables (which is what they really are)\n",
    "# Functions: Local vs. global variables\n",
    "# Functions within functions"
   ]
  },
  {
   "cell_type": "markdown",
   "metadata": {},
   "source": [
    "# Functions"
   ]
  },
  {
   "cell_type": "code",
   "execution_count": 2,
   "metadata": {},
   "outputs": [
    {
     "name": "stdout",
     "output_type": "stream",
     "text": [
      "Hello World\n"
     ]
    }
   ],
   "source": [
    "def HelloWorld():\n",
    "    print(\"Hello World\")\n",
    "HelloWorld()"
   ]
  },
  {
   "cell_type": "markdown",
   "metadata": {},
   "source": [
    "# Functions: Passing them information"
   ]
  },
  {
   "cell_type": "code",
   "execution_count": 3,
   "metadata": {},
   "outputs": [
    {
     "name": "stdout",
     "output_type": "stream",
     "text": [
      "30\n"
     ]
    }
   ],
   "source": [
    "def Add(num1, num2):\n",
    "    print(num1+num2)\n",
    "\n",
    "Add(10, 20)"
   ]
  },
  {
   "cell_type": "markdown",
   "metadata": {},
   "source": [
    "# Functions: Passing information to them a different way"
   ]
  },
  {
   "cell_type": "code",
   "execution_count": 4,
   "metadata": {},
   "outputs": [
    {
     "name": "stdout",
     "output_type": "stream",
     "text": [
      "Target Name: Jameel\n"
     ]
    }
   ],
   "source": [
    "def get_Name(Dict, List, Index):\n",
    "    print(\"Target Name: \"+Dict[List][Index])\n",
    "Custumers = {\n",
    "    \"adults\" : [\"Jameel\", \"Aleem\", \"Faheem\"],\n",
    "    \"Teenagers\" : [\"Haris\", \"Jarvis\"]\n",
    "}\n",
    "get_Name(Dict = Custumers, List = \"adults\", Index = 0)"
   ]
  },
  {
   "cell_type": "markdown",
   "metadata": {},
   "source": [
    "# Functions: Assigning a default value to a parameter"
   ]
  },
  {
   "cell_type": "code",
   "execution_count": 5,
   "metadata": {},
   "outputs": [
    {
     "name": "stdout",
     "output_type": "stream",
     "text": [
      "3\n",
      "6\n"
     ]
    }
   ],
   "source": [
    "def add(x, y =1):\n",
    "    print(x+y)\n",
    "\n",
    "add(2)\n",
    "add(2, 4)"
   ]
  },
  {
   "cell_type": "markdown",
   "metadata": {},
   "source": [
    "# Functions: Mixing positional and keyword arguments"
   ]
  },
  {
   "cell_type": "code",
   "execution_count": 6,
   "metadata": {},
   "outputs": [
    {
     "name": "stdout",
     "output_type": "stream",
     "text": [
      "Hi, Al\n"
     ]
    }
   ],
   "source": [
    "def Greetings(x=\"Hi\", y=\"Mike\"):\n",
    "    print(f\"{x}, {y}\")\n",
    "Greetings(y=\"Al\")"
   ]
  },
  {
   "cell_type": "markdown",
   "metadata": {},
   "source": [
    "# Functions: Dealing with an unknown number of arguments"
   ]
  },
  {
   "cell_type": "code",
   "execution_count": 7,
   "metadata": {},
   "outputs": [
    {
     "name": "stdout",
     "output_type": "stream",
     "text": [
      "[1, 2, 3, 4]\n"
     ]
    }
   ],
   "source": [
    "list_to_be_filled = []\n",
    "def Fill(x, y, **z):\n",
    "    list_to_be_filled.append(x)\n",
    "    list_to_be_filled.append(y)\n",
    "    for val in z.values():\n",
    "        list_to_be_filled.append(val)\n",
    "    print(list_to_be_filled)\n",
    "    \n",
    "\n",
    "Fill(x= 1,y = 2,z=3 ,w = 4)\n"
   ]
  },
  {
   "cell_type": "markdown",
   "metadata": {},
   "source": [
    "# Functions: Passing information back from them"
   ]
  },
  {
   "cell_type": "code",
   "execution_count": 8,
   "metadata": {},
   "outputs": [
    {
     "name": "stdout",
     "output_type": "stream",
     "text": [
      "{'cat': 'meow', 'dog': 'bhau-bhau', 'fish': 'glug'}\n"
     ]
    }
   ],
   "source": [
    "creatures = {\n",
    "  \"cat\": \"meow\",\n",
    "  \"dog\": \"bow-wow\",\n",
    "  \"fish\": \"glug\",\n",
    "}\n",
    "def Change_Dict(Dict, dictKey, dictValue):\n",
    "    Dict[dictKey] = dictValue\n",
    "    return Dict\n",
    "  \n",
    "print(Change_Dict(creatures, \"dog\", \"bhau-bhau\"))"
   ]
  },
  {
   "cell_type": "markdown",
   "metadata": {},
   "source": [
    "# Using functions as variables (which is what they really are)"
   ]
  },
  {
   "cell_type": "code",
   "execution_count": 9,
   "metadata": {},
   "outputs": [
    {
     "name": "stdout",
     "output_type": "stream",
     "text": [
      "40.0\n"
     ]
    }
   ],
   "source": [
    "list_of_numbers = [12, 24, 36]\n",
    "def increment_list_element(list_name, index_of_element, how_much_to_add):\n",
    "    list_name[index_of_element] += how_much_to_add\n",
    "    return list_name[index_of_element]\n",
    "print(increment_list_element(list_of_numbers, 2, 8/2))\n"
   ]
  },
  {
   "cell_type": "markdown",
   "metadata": {},
   "source": [
    "# Functions: Local vs. global variables"
   ]
  },
  {
   "cell_type": "code",
   "execution_count": 10,
   "metadata": {},
   "outputs": [
    {
     "name": "stdout",
     "output_type": "stream",
     "text": [
      "Local: 12\n",
      "Global: 1\n"
     ]
    }
   ],
   "source": [
    "x = 1\n",
    "def Function():\n",
    "    x = 12\n",
    "    print(f\"Local: {x}\")\n",
    "Function()\n",
    "print(f\"Global: {x}\")"
   ]
  },
  {
   "cell_type": "markdown",
   "metadata": {},
   "source": [
    "# Functions within functions"
   ]
  },
  {
   "cell_type": "code",
   "execution_count": 11,
   "metadata": {},
   "outputs": [
    {
     "name": "stdout",
     "output_type": "stream",
     "text": [
      "6\n"
     ]
    }
   ],
   "source": [
    "def calc(x, y, z):\n",
    "      return x * y * z\n",
    "\n",
    "def Print():\n",
    "      print(calc(1, 2, 3))\n",
    "Print()"
   ]
  },
  {
   "cell_type": "markdown",
   "metadata": {},
   "source": [
    "# Practice Questions"
   ]
  },
  {
   "cell_type": "code",
   "execution_count": 18,
   "metadata": {},
   "outputs": [
    {
     "name": "stdout",
     "output_type": "stream",
     "text": [
      "18 is greater than 12 and 13\n"
     ]
    }
   ],
   "source": [
    "#Write a Python function to find the Max of three numbers\n",
    "\n",
    "def FindMax(x,y,z):\n",
    "    if (x > y) and(x > z):\n",
    "        return str(x) +  \" is greater than  \" + str(y) + \" and \"+str(z)\n",
    "    elif (y > x) and (y > z):\n",
    "        return str(y) +  \" is greater than \" + str(x) + \" and \"+str(z)\n",
    "    elif (z > x) and (z > y):\n",
    "        return str(z) +  \" is greater than \" + str(x) + \" and \"+str(y)\n",
    "    else:\n",
    "        return \" Numbers are equal\"\n",
    "print(FindMax(\"12\",\"13\",\"18\"))"
   ]
  },
  {
   "cell_type": "code",
   "execution_count": 35,
   "metadata": {},
   "outputs": [
    {
     "name": "stdout",
     "output_type": "stream",
     "text": [
      "10\n"
     ]
    }
   ],
   "source": [
    "#Write a Python function to sum all the numbers in a list\n",
    "def SumofList(lst):\n",
    "    Sum = 0\n",
    "    for x in lst:\n",
    "        Sum += x\n",
    "    return Sum\n",
    "\n",
    "lst =[1, 2, 3, 4]\n",
    "print(SumofList(lst))"
   ]
  },
  {
   "cell_type": "code",
   "execution_count": 104,
   "metadata": {},
   "outputs": [
    {
     "name": "stdout",
     "output_type": "stream",
     "text": [
      "siraH"
     ]
    }
   ],
   "source": [
    "#Write a Python program to reverse a string.\n",
    "def ReverseAString(Word, Len):\n",
    "    if Len >= 0:\n",
    "        print(Word[Len] ,end = \"\")\n",
    "        ReverseAString(Word, (Len)-1)\n",
    "\n",
    "        \n",
    "word = \"Haris\"\n",
    "ReverseAString(word, len(word)-1)"
   ]
  },
  {
   "cell_type": "code",
   "execution_count": 116,
   "metadata": {},
   "outputs": [
    {
     "name": "stdout",
     "output_type": "stream",
     "text": [
      "[1, 2, 3, 4, 5]\n"
     ]
    }
   ],
   "source": [
    "#Write a Python function that takes a list and returns a new list with unique elements of the first list. Go to the editor\n",
    "#Sample List : [1,2,3,3,3,3,4,5]\n",
    "#Unique List : [1, 2, 3, 4, 5]\n",
    "def UniqueElements(lst):\n",
    "    y = []\n",
    "    for x in lst:\n",
    "        if x not in y:\n",
    "            y.append(x)\n",
    "    return y\n",
    "\n",
    "lst  = [1,2,3,3,3,3,4,5]\n",
    "print(UniqueElements(lst))"
   ]
  },
  {
   "cell_type": "code",
   "execution_count": 117,
   "metadata": {},
   "outputs": [
    {
     "name": "stdout",
     "output_type": "stream",
     "text": [
      "1\n",
      "2\n",
      "--------------------\n",
      "1\n",
      "2\n",
      "3\n",
      "4\n"
     ]
    }
   ],
   "source": [
    "#Write a function func1() such that it can accept a variable length of  argument and print all arguments value\n",
    "def Func1(*num):\n",
    "    for i in num:\n",
    "        print(i)\n",
    "        \n",
    "Func1(1,2)\n",
    "print(\"--------------------\")\n",
    "Func1(1,2,3,4)"
   ]
  },
  {
   "cell_type": "code",
   "execution_count": null,
   "metadata": {},
   "outputs": [],
   "source": []
  }
 ],
 "metadata": {
  "kernelspec": {
   "display_name": "Python 3",
   "language": "python",
   "name": "python3"
  },
  "language_info": {
   "codemirror_mode": {
    "name": "ipython",
    "version": 3
   },
   "file_extension": ".py",
   "mimetype": "text/x-python",
   "name": "python",
   "nbconvert_exporter": "python",
   "pygments_lexer": "ipython3",
   "version": "3.8.3"
  }
 },
 "nbformat": 4,
 "nbformat_minor": 2
}
