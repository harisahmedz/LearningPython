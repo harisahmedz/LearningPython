{
 "cells": [
  {
   "cell_type": "code",
   "execution_count": 2,
   "metadata": {},
   "outputs": [],
   "source": [
    "from abc import ABC, abstractmethod\n",
    "class Computer(ABC):\n",
    "    @abstractmethod\n",
    "    def process(self): #abstract method\n",
    "        pass     \n",
    "#com = Computer()"
   ]
  },
  {
   "cell_type": "code",
   "execution_count": 3,
   "metadata": {},
   "outputs": [
    {
     "name": "stdout",
     "output_type": "stream",
     "text": [
      "Is running \n"
     ]
    }
   ],
   "source": [
    "class Laptop(Computer):\n",
    "    def process(self):\n",
    "        print(\"Is running \")\n",
    "\n",
    "com1 = Laptop()\n",
    "com1.process()"
   ]
  },
  {
   "cell_type": "markdown",
   "metadata": {},
   "source": [
    "# PRACTICE"
   ]
  },
  {
   "cell_type": "code",
   "execution_count": 8,
   "metadata": {},
   "outputs": [
    {
     "name": "stdout",
     "output_type": "stream",
     "text": [
      ">>>> Triangle\n",
      "I have 3 Sides\n",
      "\n",
      ">>>> Quadrilateral\n",
      "I have 4 Sides\n",
      "\n",
      ">>>> Pentagon\n",
      "I have 5 Sides\n",
      "\n",
      ">>>> Hexagon\n",
      "I have 6 Sides\n",
      "\n",
      ">>>> Heptagon\n",
      "I have 7 Sides\n"
     ]
    }
   ],
   "source": [
    "class Polygons(ABC):\n",
    "    @abstractmethod\n",
    "    def NoOfSides(self):\n",
    "        pass\n",
    "    \n",
    "class Triangle(Polygons):\n",
    "    def NoOfSides(self):\n",
    "        print(\"I have 3 Sides\")\n",
    "        \n",
    "class Quadrilateral(Polygons):\n",
    "    def NoOfSides(self):\n",
    "        print(\"I have 4 Sides\")\n",
    "        \n",
    "class Pentagon(Polygons):\n",
    "    def NoOfSides(self):\n",
    "        print(\"I have 5 Sides\")\n",
    "        \n",
    "class Hexagon(Polygons):\n",
    "    def NoOfSides(self):\n",
    "        print(\"I have 6 Sides\")\n",
    "        \n",
    "class Heptagon(Polygons):\n",
    "    def NoOfSides(self):\n",
    "        print(\"I have 7 Sides\")\n",
    "        \n",
    "print(\">>>> Triangle\")\n",
    "triangle = Triangle()\n",
    "triangle.NoOfSides()\n",
    "\n",
    "print()\n",
    "print(\">>>> Quadrilateral\")\n",
    "quadrilateral = Quadrilateral()\n",
    "quadrilateral.NoOfSides()\n",
    "\n",
    "print()\n",
    "print(\">>>> Pentagon\")\n",
    "pentagon = Pentagon()\n",
    "pentagon.NoOfSides()\n",
    "\n",
    "print()\n",
    "print(\">>>> Hexagon\")\n",
    "hexagon = Hexagon()\n",
    "hexagon.NoOfSides()\n",
    "\n",
    "print()\n",
    "print(\">>>> Heptagon\")\n",
    "heptagon = Heptagon()\n",
    "heptagon.NoOfSides()"
   ]
  },
  {
   "cell_type": "code",
   "execution_count": 11,
   "metadata": {},
   "outputs": [
    {
     "name": "stdout",
     "output_type": "stream",
     "text": [
      "Parent class\n",
      "child Class\n"
     ]
    }
   ],
   "source": [
    "#Concrete Methods in Abstract Base Classes :\n",
    "class Parent(ABC):\n",
    "    def Method(self):\n",
    "        print(\"Parent class\")\n",
    "    \n",
    "class Child(Parent):\n",
    "    def Method(self):\n",
    "        super().Method()\n",
    "        print(\"child Class\")\n",
    "        \n",
    "child =  Child()\n",
    "child.Method()"
   ]
  },
  {
   "cell_type": "code",
   "execution_count": null,
   "metadata": {},
   "outputs": [],
   "source": []
  }
 ],
 "metadata": {
  "kernelspec": {
   "display_name": "Python 3",
   "language": "python",
   "name": "python3"
  },
  "language_info": {
   "codemirror_mode": {
    "name": "ipython",
    "version": 3
   },
   "file_extension": ".py",
   "mimetype": "text/x-python",
   "name": "python",
   "nbconvert_exporter": "python",
   "pygments_lexer": "ipython3",
   "version": "3.8.3"
  }
 },
 "nbformat": 4,
 "nbformat_minor": 4
}
