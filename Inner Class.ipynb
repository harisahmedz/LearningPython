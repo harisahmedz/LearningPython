{
 "cells": [
  {
   "cell_type": "code",
   "execution_count": 1,
   "metadata": {},
   "outputs": [
    {
     "name": "stdout",
     "output_type": "stream",
     "text": [
      "Name: Haris \tRoll No: 3\n",
      "Laptop: \n",
      "Brand:Dell\t CPU:i7 \t RAM:8 GB\n",
      "Laptop: \n",
      "Brand:Dell\t CPU:i7 \t RAM:8 GB\n"
     ]
    }
   ],
   "source": [
    "class Student:\n",
    "    def __init__(self, Name, RollNo, brand, cpu, ram):\n",
    "        self.Name = Name\n",
    "        self.RollNo = RollNo\n",
    "        self.Laptop = self.Laptop(brand, cpu, ram)\n",
    "    \n",
    "    def Show(self):\n",
    "        print(\"Name:\",self.Name,\"\\tRoll No:\", self.RollNo)\n",
    "        print(f\"Laptop: \\nBrand:{self.Laptop.brand}\\t CPU:{self.Laptop.cpu} \\t RAM:{self.Laptop.ram}\")\n",
    "\n",
    "    class Laptop:#inner class\n",
    "        def __init__(self, brand, cpu, ram):\n",
    "            self.brand = brand\n",
    "            self.cpu = cpu\n",
    "            self.ram = ram\n",
    "        def Show(self):\n",
    "            print(f\"Laptop: \\nBrand:{self.brand}\\t CPU:{self.cpu} \\t RAM:{self.ram}\")\n",
    "\n",
    "    \n",
    "s1 = Student(\"Navin\", 2, \"Dell\", \"i7\", \"8 GB\")\n",
    "s2 = Student(\"Haris\", 3, \"Dell\", \"i7\", \"8 GB\")\n",
    "s2.Show()\n",
    "lap1 = Student.Laptop(\"Dell\", \"i7\", \"8 GB\")\n",
    "lap1.Show()"
   ]
  },
  {
   "cell_type": "code",
   "execution_count": 2,
   "metadata": {},
   "outputs": [
    {
     "name": "stdout",
     "output_type": "stream",
     "text": [
      "Car: Honda Civic 2017 \n",
      "Car Engine: 174-horsepower 1.5-liter turbocharged four-cylinder engine\n"
     ]
    }
   ],
   "source": [
    "#Suppose you have two classes Car and Engine. Every Car needs an Engine.\n",
    "#But, Engine won't be used without a Car. So, you make the Engine an inner class to the Car.\n",
    "#It helps save code.\n",
    "\n",
    "class Car:\n",
    "    Wheels = 4\n",
    "    def __init__(self, companyName, Model, EngineName):\n",
    "        self.companyName = companyName\n",
    "        self.model = Model\n",
    "        self.Engine = self.Engine(EngineName)\n",
    "    def Show(self):\n",
    "        print(f\"Car: {self.companyName} {self.model} \")\n",
    "        print(f\"Car Engine: {self.Engine.engine}\")\n",
    "        \n",
    "    class Engine:\n",
    "        def __init__(self, EngineName):\n",
    "            self.engine = EngineName\n",
    "        def CarEngine(self):\n",
    "            print(\"Car Engine Details\")\n",
    "            \n",
    "Civic = Car(\"Honda\", \"Civic 2017\", \"174-horsepower 1.5-liter turbocharged four-cylinder engine\")\n",
    "Civic.Show()"
   ]
  }
 ],
 "metadata": {
  "kernelspec": {
   "display_name": "Python 3",
   "language": "python",
   "name": "python3"
  },
  "language_info": {
   "codemirror_mode": {
    "name": "ipython",
    "version": 3
   },
   "file_extension": ".py",
   "mimetype": "text/x-python",
   "name": "python",
   "nbconvert_exporter": "python",
   "pygments_lexer": "ipython3",
   "version": "3.8.3"
  }
 },
 "nbformat": 4,
 "nbformat_minor": 4
}
